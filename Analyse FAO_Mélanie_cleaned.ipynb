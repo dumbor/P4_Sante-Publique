{
 "cells": [
  {
   "cell_type": "markdown",
   "id": "b1b9ddf2-d12b-4e53-9b4f-10fb09d3fdb4",
   "metadata": {
    "tags": [],
    "toc-hr-collapsed": true
   },
   "source": [
    "![FAO](FAO_Logo.png)\n",
    "\n",
    "# Missions principales\n",
    "Affiner l'état de sous-nutrition par pays :\n",
    "- les pays pour lesquels la proportion de personnes sous-alimentées est la plus forte en 2017;\n",
    "- les pays ayant bénéficié du plus d'aide depuis 2013;\n",
    "- les pays ayant le plus/le moins de disponibilité/habitant.\n",
    "\n",
    "\n",
    "**Les fichiers csv fournis sont**\n",
    "- aide_alimentaire\n",
    "- dispo_alimentaire\n",
    "- population\n",
    "- sous_nutrition"
   ]
  },
  {
   "cell_type": "markdown",
   "id": "1da0f880-a59a-4281-82d4-a2936a0d9973",
   "metadata": {
    "tags": []
   },
   "source": [
    "# I. Préparation des données"
   ]
  },
  {
   "cell_type": "markdown",
   "id": "50e7dc4d-4963-411c-af3a-e35140e78666",
   "metadata": {
    "tags": []
   },
   "source": [
    "## Importation des données"
   ]
  },
  {
   "cell_type": "markdown",
   "id": "79803ca3-4b53-44b4-a63b-5d550eb2fea0",
   "metadata": {},
   "source": [
    "Import des librairies"
   ]
  },
  {
   "cell_type": "code",
   "execution_count": 1,
   "id": "2d52f7a3-acc0-4807-a6fd-458d17819bde",
   "metadata": {
    "tags": []
   },
   "outputs": [],
   "source": [
    "import pandas as pd\n",
    "import numpy as np\n",
    "\n",
    "# On indique que l'on veut voir apparaître les graphiques dans le notebook, sinon on ne verrait rien\n",
    "%matplotlib inline\n",
    "\n",
    "import matplotlib.pyplot as plt\n",
    "from matplotlib.pyplot import figure as fig\n",
    "import seaborn as sns\n",
    "\n",
    "#import du module de fonctions communes aux 2 notebooks\n",
    "import commonFunctions as cf"
   ]
  },
  {
   "cell_type": "markdown",
   "id": "ce8b30f6-76e6-4a43-b7c6-f88e155ed532",
   "metadata": {},
   "source": [
    "Import des 4 fichiers fournis en créant un data frame par fichier"
   ]
  },
  {
   "cell_type": "code",
   "execution_count": 2,
   "id": "4744a45d-1bdb-485e-9545-237554ad052e",
   "metadata": {
    "tags": []
   },
   "outputs": [],
   "source": [
    "chemin_fichiers = './csv/'"
   ]
  },
  {
   "cell_type": "code",
   "execution_count": 3,
   "id": "827ae809-cfac-416e-b898-a10a71a68e58",
   "metadata": {},
   "outputs": [],
   "source": [
    "df_foodaid = pd.read_csv(chemin_fichiers+'aide_alimentaire.csv')"
   ]
  },
  {
   "cell_type": "code",
   "execution_count": 4,
   "id": "4ef321e8-893a-4d35-806c-2bd41b1957de",
   "metadata": {},
   "outputs": [],
   "source": [
    "df_avail = pd.read_csv(chemin_fichiers+'dispo_alimentaire.csv')"
   ]
  },
  {
   "cell_type": "code",
   "execution_count": 5,
   "id": "c5f6e224-61af-434d-9d83-17e81bc9fad5",
   "metadata": {},
   "outputs": [],
   "source": [
    "df_pop=pd.read_csv(chemin_fichiers+'population.csv')"
   ]
  },
  {
   "cell_type": "code",
   "execution_count": 6,
   "id": "38e64c02-a466-4792-a90f-41b736da67e1",
   "metadata": {},
   "outputs": [],
   "source": [
    "df_undernut=pd.read_csv(chemin_fichiers+'sous_nutrition.csv')"
   ]
  },
  {
   "cell_type": "markdown",
   "id": "c9c4d995-6657-4d31-a885-0354d8d5c78c",
   "metadata": {
    "tags": []
   },
   "source": [
    "## Déclarations de variables"
   ]
  },
  {
   "cell_type": "code",
   "execution_count": 7,
   "id": "cee89642-d479-41b7-910e-39de823896f2",
   "metadata": {},
   "outputs": [],
   "source": [
    "pd.set_option(\"display.max_columns\", 100)\n",
    "pd.set_option(\"display.max_rows\", 1000)\n",
    "\n",
    "kcal_need=2326.8"
   ]
  },
  {
   "cell_type": "markdown",
   "id": "55b20585-4fb6-4474-8b44-953be4452337",
   "metadata": {
    "tags": []
   },
   "source": [
    "## Vérification des fichiers "
   ]
  },
  {
   "cell_type": "markdown",
   "id": "05c26b30-d965-45a9-8532-5e1b8307e8ab",
   "metadata": {
    "tags": []
   },
   "source": [
    "### Fichier aide_alimentaire"
   ]
  },
  {
   "cell_type": "code",
   "execution_count": 8,
   "id": "4b113d8d-c544-4080-a2d4-71667b51f99a",
   "metadata": {},
   "outputs": [
    {
     "data": {
      "text/html": [
       "<div>\n",
       "<style scoped>\n",
       "    .dataframe tbody tr th:only-of-type {\n",
       "        vertical-align: middle;\n",
       "    }\n",
       "\n",
       "    .dataframe tbody tr th {\n",
       "        vertical-align: top;\n",
       "    }\n",
       "\n",
       "    .dataframe thead th {\n",
       "        text-align: right;\n",
       "    }\n",
       "</style>\n",
       "<table border=\"1\" class=\"dataframe\">\n",
       "  <thead>\n",
       "    <tr style=\"text-align: right;\">\n",
       "      <th></th>\n",
       "      <th>Pays bénéficiaire</th>\n",
       "      <th>Année</th>\n",
       "      <th>Produit</th>\n",
       "      <th>Valeur</th>\n",
       "    </tr>\n",
       "  </thead>\n",
       "  <tbody>\n",
       "    <tr>\n",
       "      <th>0</th>\n",
       "      <td>Afghanistan</td>\n",
       "      <td>2013</td>\n",
       "      <td>Autres non-céréales</td>\n",
       "      <td>682</td>\n",
       "    </tr>\n",
       "    <tr>\n",
       "      <th>1</th>\n",
       "      <td>Afghanistan</td>\n",
       "      <td>2014</td>\n",
       "      <td>Autres non-céréales</td>\n",
       "      <td>335</td>\n",
       "    </tr>\n",
       "    <tr>\n",
       "      <th>2</th>\n",
       "      <td>Afghanistan</td>\n",
       "      <td>2013</td>\n",
       "      <td>Blé et Farin</td>\n",
       "      <td>39224</td>\n",
       "    </tr>\n",
       "    <tr>\n",
       "      <th>3</th>\n",
       "      <td>Afghanistan</td>\n",
       "      <td>2014</td>\n",
       "      <td>Blé et Farin</td>\n",
       "      <td>15160</td>\n",
       "    </tr>\n",
       "    <tr>\n",
       "      <th>4</th>\n",
       "      <td>Afghanistan</td>\n",
       "      <td>2013</td>\n",
       "      <td>Céréales</td>\n",
       "      <td>40504</td>\n",
       "    </tr>\n",
       "    <tr>\n",
       "      <th>...</th>\n",
       "      <td>...</td>\n",
       "      <td>...</td>\n",
       "      <td>...</td>\n",
       "      <td>...</td>\n",
       "    </tr>\n",
       "    <tr>\n",
       "      <th>1470</th>\n",
       "      <td>Zimbabwe</td>\n",
       "      <td>2015</td>\n",
       "      <td>Mélanges et préparations</td>\n",
       "      <td>96</td>\n",
       "    </tr>\n",
       "    <tr>\n",
       "      <th>1471</th>\n",
       "      <td>Zimbabwe</td>\n",
       "      <td>2013</td>\n",
       "      <td>Non-céréales</td>\n",
       "      <td>5022</td>\n",
       "    </tr>\n",
       "    <tr>\n",
       "      <th>1472</th>\n",
       "      <td>Zimbabwe</td>\n",
       "      <td>2014</td>\n",
       "      <td>Non-céréales</td>\n",
       "      <td>2310</td>\n",
       "    </tr>\n",
       "    <tr>\n",
       "      <th>1473</th>\n",
       "      <td>Zimbabwe</td>\n",
       "      <td>2015</td>\n",
       "      <td>Non-céréales</td>\n",
       "      <td>306</td>\n",
       "    </tr>\n",
       "    <tr>\n",
       "      <th>1474</th>\n",
       "      <td>Zimbabwe</td>\n",
       "      <td>2013</td>\n",
       "      <td>Riz, total</td>\n",
       "      <td>64</td>\n",
       "    </tr>\n",
       "  </tbody>\n",
       "</table>\n",
       "<p>1475 rows × 4 columns</p>\n",
       "</div>"
      ],
      "text/plain": [
       "     Pays bénéficiaire  Année                   Produit  Valeur\n",
       "0          Afghanistan   2013       Autres non-céréales     682\n",
       "1          Afghanistan   2014       Autres non-céréales     335\n",
       "2          Afghanistan   2013              Blé et Farin   39224\n",
       "3          Afghanistan   2014              Blé et Farin   15160\n",
       "4          Afghanistan   2013                  Céréales   40504\n",
       "...                ...    ...                       ...     ...\n",
       "1470          Zimbabwe   2015  Mélanges et préparations      96\n",
       "1471          Zimbabwe   2013              Non-céréales    5022\n",
       "1472          Zimbabwe   2014              Non-céréales    2310\n",
       "1473          Zimbabwe   2015              Non-céréales     306\n",
       "1474          Zimbabwe   2013                Riz, total      64\n",
       "\n",
       "[1475 rows x 4 columns]"
      ]
     },
     "execution_count": 8,
     "metadata": {},
     "output_type": "execute_result"
    }
   ],
   "source": [
    "df_foodaid"
   ]
  },
  {
   "cell_type": "markdown",
   "id": "c3178262-f930-4882-b6b2-8f669d751b5a",
   "metadata": {},
   "source": [
    "Affichage du typage des colonnes"
   ]
  },
  {
   "cell_type": "code",
   "execution_count": 9,
   "id": "85dee1a8-99d8-471b-ae5b-10bc5913f3c6",
   "metadata": {
    "tags": []
   },
   "outputs": [
    {
     "data": {
      "text/plain": [
       "Pays bénéficiaire    object\n",
       "Année                 int64\n",
       "Produit              object\n",
       "Valeur                int64\n",
       "dtype: object"
      ]
     },
     "execution_count": 9,
     "metadata": {},
     "output_type": "execute_result"
    }
   ],
   "source": [
    "df_foodaid.dtypes"
   ]
  },
  {
   "cell_type": "markdown",
   "id": "108ad1c2-b2ad-41e2-b38e-c85fe02bd9b0",
   "metadata": {},
   "source": [
    "Y a-t-il des valeurs nulles ?"
   ]
  },
  {
   "cell_type": "code",
   "execution_count": 10,
   "id": "df2f672b-65ca-40dd-8e0c-6f13e83e14f2",
   "metadata": {},
   "outputs": [
    {
     "data": {
      "text/plain": [
       "Pays bénéficiaire    False\n",
       "Année                False\n",
       "Produit              False\n",
       "Valeur               False\n",
       "dtype: bool"
      ]
     },
     "execution_count": 10,
     "metadata": {},
     "output_type": "execute_result"
    }
   ],
   "source": [
    "df_foodaid.isnull().any()"
   ]
  },
  {
   "cell_type": "markdown",
   "id": "b54442db-4aca-49d9-b2c2-27ec3f39df68",
   "metadata": {
    "tags": []
   },
   "source": [
    "### Fichier dispo_alimentaire"
   ]
  },
  {
   "cell_type": "code",
   "execution_count": 11,
   "id": "8f942508-655d-4229-a097-1de12a81e606",
   "metadata": {},
   "outputs": [
    {
     "data": {
      "text/html": [
       "<div>\n",
       "<style scoped>\n",
       "    .dataframe tbody tr th:only-of-type {\n",
       "        vertical-align: middle;\n",
       "    }\n",
       "\n",
       "    .dataframe tbody tr th {\n",
       "        vertical-align: top;\n",
       "    }\n",
       "\n",
       "    .dataframe thead th {\n",
       "        text-align: right;\n",
       "    }\n",
       "</style>\n",
       "<table border=\"1\" class=\"dataframe\">\n",
       "  <thead>\n",
       "    <tr style=\"text-align: right;\">\n",
       "      <th></th>\n",
       "      <th>Zone</th>\n",
       "      <th>Produit</th>\n",
       "      <th>Origine</th>\n",
       "      <th>Aliments pour animaux</th>\n",
       "      <th>Autres Utilisations</th>\n",
       "      <th>Disponibilité alimentaire (Kcal/personne/jour)</th>\n",
       "      <th>Disponibilité alimentaire en quantité (kg/personne/an)</th>\n",
       "      <th>Disponibilité de matière grasse en quantité (g/personne/jour)</th>\n",
       "      <th>Disponibilité de protéines en quantité (g/personne/jour)</th>\n",
       "      <th>Disponibilité intérieure</th>\n",
       "      <th>Exportations - Quantité</th>\n",
       "      <th>Importations - Quantité</th>\n",
       "      <th>Nourriture</th>\n",
       "      <th>Pertes</th>\n",
       "      <th>Production</th>\n",
       "      <th>Semences</th>\n",
       "      <th>Traitement</th>\n",
       "      <th>Variation de stock</th>\n",
       "    </tr>\n",
       "  </thead>\n",
       "  <tbody>\n",
       "    <tr>\n",
       "      <th>0</th>\n",
       "      <td>Afghanistan</td>\n",
       "      <td>Abats Comestible</td>\n",
       "      <td>animale</td>\n",
       "      <td>NaN</td>\n",
       "      <td>NaN</td>\n",
       "      <td>5.0</td>\n",
       "      <td>1.72</td>\n",
       "      <td>0.20</td>\n",
       "      <td>0.77</td>\n",
       "      <td>53.0</td>\n",
       "      <td>NaN</td>\n",
       "      <td>NaN</td>\n",
       "      <td>53.0</td>\n",
       "      <td>NaN</td>\n",
       "      <td>53.0</td>\n",
       "      <td>NaN</td>\n",
       "      <td>NaN</td>\n",
       "      <td>NaN</td>\n",
       "    </tr>\n",
       "    <tr>\n",
       "      <th>1</th>\n",
       "      <td>Afghanistan</td>\n",
       "      <td>Agrumes, Autres</td>\n",
       "      <td>vegetale</td>\n",
       "      <td>NaN</td>\n",
       "      <td>NaN</td>\n",
       "      <td>1.0</td>\n",
       "      <td>1.29</td>\n",
       "      <td>0.01</td>\n",
       "      <td>0.02</td>\n",
       "      <td>41.0</td>\n",
       "      <td>2.0</td>\n",
       "      <td>40.0</td>\n",
       "      <td>39.0</td>\n",
       "      <td>2.0</td>\n",
       "      <td>3.0</td>\n",
       "      <td>NaN</td>\n",
       "      <td>NaN</td>\n",
       "      <td>NaN</td>\n",
       "    </tr>\n",
       "    <tr>\n",
       "      <th>2</th>\n",
       "      <td>Afghanistan</td>\n",
       "      <td>Aliments pour enfants</td>\n",
       "      <td>vegetale</td>\n",
       "      <td>NaN</td>\n",
       "      <td>NaN</td>\n",
       "      <td>1.0</td>\n",
       "      <td>0.06</td>\n",
       "      <td>0.01</td>\n",
       "      <td>0.03</td>\n",
       "      <td>2.0</td>\n",
       "      <td>NaN</td>\n",
       "      <td>2.0</td>\n",
       "      <td>2.0</td>\n",
       "      <td>NaN</td>\n",
       "      <td>NaN</td>\n",
       "      <td>NaN</td>\n",
       "      <td>NaN</td>\n",
       "      <td>NaN</td>\n",
       "    </tr>\n",
       "    <tr>\n",
       "      <th>3</th>\n",
       "      <td>Afghanistan</td>\n",
       "      <td>Ananas</td>\n",
       "      <td>vegetale</td>\n",
       "      <td>NaN</td>\n",
       "      <td>NaN</td>\n",
       "      <td>0.0</td>\n",
       "      <td>0.00</td>\n",
       "      <td>NaN</td>\n",
       "      <td>NaN</td>\n",
       "      <td>0.0</td>\n",
       "      <td>NaN</td>\n",
       "      <td>0.0</td>\n",
       "      <td>0.0</td>\n",
       "      <td>NaN</td>\n",
       "      <td>NaN</td>\n",
       "      <td>NaN</td>\n",
       "      <td>NaN</td>\n",
       "      <td>NaN</td>\n",
       "    </tr>\n",
       "    <tr>\n",
       "      <th>4</th>\n",
       "      <td>Afghanistan</td>\n",
       "      <td>Bananes</td>\n",
       "      <td>vegetale</td>\n",
       "      <td>NaN</td>\n",
       "      <td>NaN</td>\n",
       "      <td>4.0</td>\n",
       "      <td>2.70</td>\n",
       "      <td>0.02</td>\n",
       "      <td>0.05</td>\n",
       "      <td>82.0</td>\n",
       "      <td>NaN</td>\n",
       "      <td>82.0</td>\n",
       "      <td>82.0</td>\n",
       "      <td>NaN</td>\n",
       "      <td>NaN</td>\n",
       "      <td>NaN</td>\n",
       "      <td>NaN</td>\n",
       "      <td>NaN</td>\n",
       "    </tr>\n",
       "    <tr>\n",
       "      <th>...</th>\n",
       "      <td>...</td>\n",
       "      <td>...</td>\n",
       "      <td>...</td>\n",
       "      <td>...</td>\n",
       "      <td>...</td>\n",
       "      <td>...</td>\n",
       "      <td>...</td>\n",
       "      <td>...</td>\n",
       "      <td>...</td>\n",
       "      <td>...</td>\n",
       "      <td>...</td>\n",
       "      <td>...</td>\n",
       "      <td>...</td>\n",
       "      <td>...</td>\n",
       "      <td>...</td>\n",
       "      <td>...</td>\n",
       "      <td>...</td>\n",
       "      <td>...</td>\n",
       "    </tr>\n",
       "    <tr>\n",
       "      <th>15600</th>\n",
       "      <td>Îles Salomon</td>\n",
       "      <td>Viande de Suides</td>\n",
       "      <td>animale</td>\n",
       "      <td>NaN</td>\n",
       "      <td>NaN</td>\n",
       "      <td>45.0</td>\n",
       "      <td>4.70</td>\n",
       "      <td>4.28</td>\n",
       "      <td>1.41</td>\n",
       "      <td>3.0</td>\n",
       "      <td>NaN</td>\n",
       "      <td>0.0</td>\n",
       "      <td>3.0</td>\n",
       "      <td>NaN</td>\n",
       "      <td>2.0</td>\n",
       "      <td>NaN</td>\n",
       "      <td>NaN</td>\n",
       "      <td>NaN</td>\n",
       "    </tr>\n",
       "    <tr>\n",
       "      <th>15601</th>\n",
       "      <td>Îles Salomon</td>\n",
       "      <td>Viande de Volailles</td>\n",
       "      <td>animale</td>\n",
       "      <td>NaN</td>\n",
       "      <td>NaN</td>\n",
       "      <td>11.0</td>\n",
       "      <td>3.34</td>\n",
       "      <td>0.69</td>\n",
       "      <td>1.14</td>\n",
       "      <td>2.0</td>\n",
       "      <td>NaN</td>\n",
       "      <td>2.0</td>\n",
       "      <td>2.0</td>\n",
       "      <td>NaN</td>\n",
       "      <td>0.0</td>\n",
       "      <td>NaN</td>\n",
       "      <td>NaN</td>\n",
       "      <td>NaN</td>\n",
       "    </tr>\n",
       "    <tr>\n",
       "      <th>15602</th>\n",
       "      <td>Îles Salomon</td>\n",
       "      <td>Viande, Autre</td>\n",
       "      <td>animale</td>\n",
       "      <td>NaN</td>\n",
       "      <td>NaN</td>\n",
       "      <td>0.0</td>\n",
       "      <td>0.06</td>\n",
       "      <td>NaN</td>\n",
       "      <td>0.04</td>\n",
       "      <td>0.0</td>\n",
       "      <td>NaN</td>\n",
       "      <td>0.0</td>\n",
       "      <td>0.0</td>\n",
       "      <td>NaN</td>\n",
       "      <td>NaN</td>\n",
       "      <td>NaN</td>\n",
       "      <td>NaN</td>\n",
       "      <td>NaN</td>\n",
       "    </tr>\n",
       "    <tr>\n",
       "      <th>15603</th>\n",
       "      <td>Îles Salomon</td>\n",
       "      <td>Vin</td>\n",
       "      <td>vegetale</td>\n",
       "      <td>NaN</td>\n",
       "      <td>NaN</td>\n",
       "      <td>0.0</td>\n",
       "      <td>0.07</td>\n",
       "      <td>NaN</td>\n",
       "      <td>NaN</td>\n",
       "      <td>0.0</td>\n",
       "      <td>0.0</td>\n",
       "      <td>0.0</td>\n",
       "      <td>0.0</td>\n",
       "      <td>NaN</td>\n",
       "      <td>NaN</td>\n",
       "      <td>NaN</td>\n",
       "      <td>NaN</td>\n",
       "      <td>NaN</td>\n",
       "    </tr>\n",
       "    <tr>\n",
       "      <th>15604</th>\n",
       "      <td>Îles Salomon</td>\n",
       "      <td>Épices, Autres</td>\n",
       "      <td>vegetale</td>\n",
       "      <td>NaN</td>\n",
       "      <td>NaN</td>\n",
       "      <td>4.0</td>\n",
       "      <td>0.48</td>\n",
       "      <td>0.21</td>\n",
       "      <td>0.15</td>\n",
       "      <td>0.0</td>\n",
       "      <td>0.0</td>\n",
       "      <td>0.0</td>\n",
       "      <td>0.0</td>\n",
       "      <td>NaN</td>\n",
       "      <td>0.0</td>\n",
       "      <td>NaN</td>\n",
       "      <td>NaN</td>\n",
       "      <td>NaN</td>\n",
       "    </tr>\n",
       "  </tbody>\n",
       "</table>\n",
       "<p>15605 rows × 18 columns</p>\n",
       "</div>"
      ],
      "text/plain": [
       "               Zone                Produit   Origine  Aliments pour animaux  \\\n",
       "0       Afghanistan       Abats Comestible   animale                    NaN   \n",
       "1       Afghanistan        Agrumes, Autres  vegetale                    NaN   \n",
       "2       Afghanistan  Aliments pour enfants  vegetale                    NaN   \n",
       "3       Afghanistan                 Ananas  vegetale                    NaN   \n",
       "4       Afghanistan                Bananes  vegetale                    NaN   \n",
       "...             ...                    ...       ...                    ...   \n",
       "15600  Îles Salomon       Viande de Suides   animale                    NaN   \n",
       "15601  Îles Salomon    Viande de Volailles   animale                    NaN   \n",
       "15602  Îles Salomon          Viande, Autre   animale                    NaN   \n",
       "15603  Îles Salomon                    Vin  vegetale                    NaN   \n",
       "15604  Îles Salomon         Épices, Autres  vegetale                    NaN   \n",
       "\n",
       "       Autres Utilisations  Disponibilité alimentaire (Kcal/personne/jour)  \\\n",
       "0                      NaN                                             5.0   \n",
       "1                      NaN                                             1.0   \n",
       "2                      NaN                                             1.0   \n",
       "3                      NaN                                             0.0   \n",
       "4                      NaN                                             4.0   \n",
       "...                    ...                                             ...   \n",
       "15600                  NaN                                            45.0   \n",
       "15601                  NaN                                            11.0   \n",
       "15602                  NaN                                             0.0   \n",
       "15603                  NaN                                             0.0   \n",
       "15604                  NaN                                             4.0   \n",
       "\n",
       "       Disponibilité alimentaire en quantité (kg/personne/an)  \\\n",
       "0                                                   1.72        \n",
       "1                                                   1.29        \n",
       "2                                                   0.06        \n",
       "3                                                   0.00        \n",
       "4                                                   2.70        \n",
       "...                                                  ...        \n",
       "15600                                               4.70        \n",
       "15601                                               3.34        \n",
       "15602                                               0.06        \n",
       "15603                                               0.07        \n",
       "15604                                               0.48        \n",
       "\n",
       "       Disponibilité de matière grasse en quantité (g/personne/jour)  \\\n",
       "0                                                   0.20               \n",
       "1                                                   0.01               \n",
       "2                                                   0.01               \n",
       "3                                                    NaN               \n",
       "4                                                   0.02               \n",
       "...                                                  ...               \n",
       "15600                                               4.28               \n",
       "15601                                               0.69               \n",
       "15602                                                NaN               \n",
       "15603                                                NaN               \n",
       "15604                                               0.21               \n",
       "\n",
       "       Disponibilité de protéines en quantité (g/personne/jour)  \\\n",
       "0                                                   0.77          \n",
       "1                                                   0.02          \n",
       "2                                                   0.03          \n",
       "3                                                    NaN          \n",
       "4                                                   0.05          \n",
       "...                                                  ...          \n",
       "15600                                               1.41          \n",
       "15601                                               1.14          \n",
       "15602                                               0.04          \n",
       "15603                                                NaN          \n",
       "15604                                               0.15          \n",
       "\n",
       "       Disponibilité intérieure  Exportations - Quantité  \\\n",
       "0                          53.0                      NaN   \n",
       "1                          41.0                      2.0   \n",
       "2                           2.0                      NaN   \n",
       "3                           0.0                      NaN   \n",
       "4                          82.0                      NaN   \n",
       "...                         ...                      ...   \n",
       "15600                       3.0                      NaN   \n",
       "15601                       2.0                      NaN   \n",
       "15602                       0.0                      NaN   \n",
       "15603                       0.0                      0.0   \n",
       "15604                       0.0                      0.0   \n",
       "\n",
       "       Importations - Quantité  Nourriture  Pertes  Production  Semences  \\\n",
       "0                          NaN        53.0     NaN        53.0       NaN   \n",
       "1                         40.0        39.0     2.0         3.0       NaN   \n",
       "2                          2.0         2.0     NaN         NaN       NaN   \n",
       "3                          0.0         0.0     NaN         NaN       NaN   \n",
       "4                         82.0        82.0     NaN         NaN       NaN   \n",
       "...                        ...         ...     ...         ...       ...   \n",
       "15600                      0.0         3.0     NaN         2.0       NaN   \n",
       "15601                      2.0         2.0     NaN         0.0       NaN   \n",
       "15602                      0.0         0.0     NaN         NaN       NaN   \n",
       "15603                      0.0         0.0     NaN         NaN       NaN   \n",
       "15604                      0.0         0.0     NaN         0.0       NaN   \n",
       "\n",
       "       Traitement  Variation de stock  \n",
       "0             NaN                 NaN  \n",
       "1             NaN                 NaN  \n",
       "2             NaN                 NaN  \n",
       "3             NaN                 NaN  \n",
       "4             NaN                 NaN  \n",
       "...           ...                 ...  \n",
       "15600         NaN                 NaN  \n",
       "15601         NaN                 NaN  \n",
       "15602         NaN                 NaN  \n",
       "15603         NaN                 NaN  \n",
       "15604         NaN                 NaN  \n",
       "\n",
       "[15605 rows x 18 columns]"
      ]
     },
     "execution_count": 11,
     "metadata": {},
     "output_type": "execute_result"
    }
   ],
   "source": [
    "df_avail"
   ]
  },
  {
   "cell_type": "markdown",
   "id": "a6dbb1da-6b87-4a69-8ff8-2abbd2a01843",
   "metadata": {},
   "source": [
    "Affichage du typage des colonnes"
   ]
  },
  {
   "cell_type": "code",
   "execution_count": 12,
   "id": "291253b8-d5ab-415e-8e1e-4ecda31f5bff",
   "metadata": {},
   "outputs": [
    {
     "data": {
      "text/plain": [
       "Zone                                                              object\n",
       "Produit                                                           object\n",
       "Origine                                                           object\n",
       "Aliments pour animaux                                            float64\n",
       "Autres Utilisations                                              float64\n",
       "Disponibilité alimentaire (Kcal/personne/jour)                   float64\n",
       "Disponibilité alimentaire en quantité (kg/personne/an)           float64\n",
       "Disponibilité de matière grasse en quantité (g/personne/jour)    float64\n",
       "Disponibilité de protéines en quantité (g/personne/jour)         float64\n",
       "Disponibilité intérieure                                         float64\n",
       "Exportations - Quantité                                          float64\n",
       "Importations - Quantité                                          float64\n",
       "Nourriture                                                       float64\n",
       "Pertes                                                           float64\n",
       "Production                                                       float64\n",
       "Semences                                                         float64\n",
       "Traitement                                                       float64\n",
       "Variation de stock                                               float64\n",
       "dtype: object"
      ]
     },
     "execution_count": 12,
     "metadata": {},
     "output_type": "execute_result"
    }
   ],
   "source": [
    "df_avail.dtypes"
   ]
  },
  {
   "cell_type": "markdown",
   "id": "7bb70b54-7956-4ca9-bffa-95f62a00cdd5",
   "metadata": {},
   "source": [
    "Y a-t-il des valeurs nulles?"
   ]
  },
  {
   "cell_type": "code",
   "execution_count": 13,
   "id": "0895b6f7-7182-4c1b-8bb9-5b394957746d",
   "metadata": {},
   "outputs": [
    {
     "data": {
      "text/plain": [
       "Zone                                                             False\n",
       "Produit                                                          False\n",
       "Origine                                                          False\n",
       "Aliments pour animaux                                             True\n",
       "Autres Utilisations                                               True\n",
       "Disponibilité alimentaire (Kcal/personne/jour)                    True\n",
       "Disponibilité alimentaire en quantité (kg/personne/an)            True\n",
       "Disponibilité de matière grasse en quantité (g/personne/jour)     True\n",
       "Disponibilité de protéines en quantité (g/personne/jour)          True\n",
       "Disponibilité intérieure                                          True\n",
       "Exportations - Quantité                                           True\n",
       "Importations - Quantité                                           True\n",
       "Nourriture                                                        True\n",
       "Pertes                                                            True\n",
       "Production                                                        True\n",
       "Semences                                                          True\n",
       "Traitement                                                        True\n",
       "Variation de stock                                                True\n",
       "dtype: bool"
      ]
     },
     "execution_count": 13,
     "metadata": {},
     "output_type": "execute_result"
    }
   ],
   "source": [
    "df_avail.isnull().any()"
   ]
  },
  {
   "cell_type": "markdown",
   "id": "97649614-4ac6-4d72-8fb1-5073b3609b8e",
   "metadata": {
    "tags": []
   },
   "source": [
    "### Fichier population"
   ]
  },
  {
   "cell_type": "code",
   "execution_count": 14,
   "id": "269bc633-2761-40df-aeb3-c660b858e9d8",
   "metadata": {},
   "outputs": [
    {
     "data": {
      "text/html": [
       "<div>\n",
       "<style scoped>\n",
       "    .dataframe tbody tr th:only-of-type {\n",
       "        vertical-align: middle;\n",
       "    }\n",
       "\n",
       "    .dataframe tbody tr th {\n",
       "        vertical-align: top;\n",
       "    }\n",
       "\n",
       "    .dataframe thead th {\n",
       "        text-align: right;\n",
       "    }\n",
       "</style>\n",
       "<table border=\"1\" class=\"dataframe\">\n",
       "  <thead>\n",
       "    <tr style=\"text-align: right;\">\n",
       "      <th></th>\n",
       "      <th>Zone</th>\n",
       "      <th>Année</th>\n",
       "      <th>Valeur</th>\n",
       "    </tr>\n",
       "  </thead>\n",
       "  <tbody>\n",
       "    <tr>\n",
       "      <th>0</th>\n",
       "      <td>Afghanistan</td>\n",
       "      <td>2013</td>\n",
       "      <td>32269.589</td>\n",
       "    </tr>\n",
       "    <tr>\n",
       "      <th>1</th>\n",
       "      <td>Afghanistan</td>\n",
       "      <td>2014</td>\n",
       "      <td>33370.794</td>\n",
       "    </tr>\n",
       "    <tr>\n",
       "      <th>2</th>\n",
       "      <td>Afghanistan</td>\n",
       "      <td>2015</td>\n",
       "      <td>34413.603</td>\n",
       "    </tr>\n",
       "    <tr>\n",
       "      <th>3</th>\n",
       "      <td>Afghanistan</td>\n",
       "      <td>2016</td>\n",
       "      <td>35383.032</td>\n",
       "    </tr>\n",
       "    <tr>\n",
       "      <th>4</th>\n",
       "      <td>Afghanistan</td>\n",
       "      <td>2017</td>\n",
       "      <td>36296.113</td>\n",
       "    </tr>\n",
       "    <tr>\n",
       "      <th>...</th>\n",
       "      <td>...</td>\n",
       "      <td>...</td>\n",
       "      <td>...</td>\n",
       "    </tr>\n",
       "    <tr>\n",
       "      <th>1411</th>\n",
       "      <td>Zimbabwe</td>\n",
       "      <td>2014</td>\n",
       "      <td>13586.707</td>\n",
       "    </tr>\n",
       "    <tr>\n",
       "      <th>1412</th>\n",
       "      <td>Zimbabwe</td>\n",
       "      <td>2015</td>\n",
       "      <td>13814.629</td>\n",
       "    </tr>\n",
       "    <tr>\n",
       "      <th>1413</th>\n",
       "      <td>Zimbabwe</td>\n",
       "      <td>2016</td>\n",
       "      <td>14030.331</td>\n",
       "    </tr>\n",
       "    <tr>\n",
       "      <th>1414</th>\n",
       "      <td>Zimbabwe</td>\n",
       "      <td>2017</td>\n",
       "      <td>14236.595</td>\n",
       "    </tr>\n",
       "    <tr>\n",
       "      <th>1415</th>\n",
       "      <td>Zimbabwe</td>\n",
       "      <td>2018</td>\n",
       "      <td>14438.802</td>\n",
       "    </tr>\n",
       "  </tbody>\n",
       "</table>\n",
       "<p>1416 rows × 3 columns</p>\n",
       "</div>"
      ],
      "text/plain": [
       "             Zone  Année     Valeur\n",
       "0     Afghanistan   2013  32269.589\n",
       "1     Afghanistan   2014  33370.794\n",
       "2     Afghanistan   2015  34413.603\n",
       "3     Afghanistan   2016  35383.032\n",
       "4     Afghanistan   2017  36296.113\n",
       "...           ...    ...        ...\n",
       "1411     Zimbabwe   2014  13586.707\n",
       "1412     Zimbabwe   2015  13814.629\n",
       "1413     Zimbabwe   2016  14030.331\n",
       "1414     Zimbabwe   2017  14236.595\n",
       "1415     Zimbabwe   2018  14438.802\n",
       "\n",
       "[1416 rows x 3 columns]"
      ]
     },
     "execution_count": 14,
     "metadata": {},
     "output_type": "execute_result"
    }
   ],
   "source": [
    "df_pop"
   ]
  },
  {
   "cell_type": "markdown",
   "id": "96961fdd-9645-4c93-bb3a-c37ae73b1677",
   "metadata": {},
   "source": [
    "Affichage du typage des colonnes"
   ]
  },
  {
   "cell_type": "code",
   "execution_count": 15,
   "id": "3b06d08c-029e-4454-a1f3-e7067d5f7c3b",
   "metadata": {},
   "outputs": [
    {
     "data": {
      "text/plain": [
       "Zone       object\n",
       "Année       int64\n",
       "Valeur    float64\n",
       "dtype: object"
      ]
     },
     "execution_count": 15,
     "metadata": {},
     "output_type": "execute_result"
    }
   ],
   "source": [
    "df_pop.dtypes"
   ]
  },
  {
   "cell_type": "markdown",
   "id": "b8d6922f-1398-46f6-b9d3-b4241bd2165b",
   "metadata": {},
   "source": [
    "Y a-t-il des valeurs nulles?"
   ]
  },
  {
   "cell_type": "code",
   "execution_count": 16,
   "id": "aa3da347-7fa9-4105-8794-0976222f847e",
   "metadata": {},
   "outputs": [
    {
     "data": {
      "text/plain": [
       "Zone      False\n",
       "Année     False\n",
       "Valeur    False\n",
       "dtype: bool"
      ]
     },
     "execution_count": 16,
     "metadata": {},
     "output_type": "execute_result"
    }
   ],
   "source": [
    "df_pop.isnull().any()"
   ]
  },
  {
   "cell_type": "markdown",
   "id": "461383b9-2b3f-4def-b678-aae8ce137570",
   "metadata": {},
   "source": [
    "Vérifier si la clé zone/année est unique"
   ]
  },
  {
   "cell_type": "code",
   "execution_count": 17,
   "id": "6ef52055-7696-43b0-b727-2c73601e88af",
   "metadata": {},
   "outputs": [
    {
     "data": {
      "text/plain": [
       "Series([], dtype: int64)"
      ]
     },
     "execution_count": 17,
     "metadata": {},
     "output_type": "execute_result"
    }
   ],
   "source": [
    "zone_an=df_pop.groupby([\"Zone\",\"Année\"]).size().reset_index(name=\"Count\")\n",
    "zone_an[(zone_an['Count'] >1)].value_counts()"
   ]
  },
  {
   "cell_type": "markdown",
   "id": "3ffc442a-be05-4b5f-917b-e73d154d4211",
   "metadata": {
    "tags": []
   },
   "source": [
    "### Fichier sous_nutrition"
   ]
  },
  {
   "cell_type": "code",
   "execution_count": 18,
   "id": "69cfb134-0de9-4d90-83de-dac5bd4be4ab",
   "metadata": {},
   "outputs": [
    {
     "data": {
      "text/html": [
       "<div>\n",
       "<style scoped>\n",
       "    .dataframe tbody tr th:only-of-type {\n",
       "        vertical-align: middle;\n",
       "    }\n",
       "\n",
       "    .dataframe tbody tr th {\n",
       "        vertical-align: top;\n",
       "    }\n",
       "\n",
       "    .dataframe thead th {\n",
       "        text-align: right;\n",
       "    }\n",
       "</style>\n",
       "<table border=\"1\" class=\"dataframe\">\n",
       "  <thead>\n",
       "    <tr style=\"text-align: right;\">\n",
       "      <th></th>\n",
       "      <th>Zone</th>\n",
       "      <th>Année</th>\n",
       "      <th>Valeur</th>\n",
       "    </tr>\n",
       "  </thead>\n",
       "  <tbody>\n",
       "    <tr>\n",
       "      <th>0</th>\n",
       "      <td>Afghanistan</td>\n",
       "      <td>2012-2014</td>\n",
       "      <td>8.6</td>\n",
       "    </tr>\n",
       "    <tr>\n",
       "      <th>1</th>\n",
       "      <td>Afghanistan</td>\n",
       "      <td>2013-2015</td>\n",
       "      <td>8.8</td>\n",
       "    </tr>\n",
       "    <tr>\n",
       "      <th>2</th>\n",
       "      <td>Afghanistan</td>\n",
       "      <td>2014-2016</td>\n",
       "      <td>8.9</td>\n",
       "    </tr>\n",
       "    <tr>\n",
       "      <th>3</th>\n",
       "      <td>Afghanistan</td>\n",
       "      <td>2015-2017</td>\n",
       "      <td>9.7</td>\n",
       "    </tr>\n",
       "    <tr>\n",
       "      <th>4</th>\n",
       "      <td>Afghanistan</td>\n",
       "      <td>2016-2018</td>\n",
       "      <td>10.5</td>\n",
       "    </tr>\n",
       "    <tr>\n",
       "      <th>...</th>\n",
       "      <td>...</td>\n",
       "      <td>...</td>\n",
       "      <td>...</td>\n",
       "    </tr>\n",
       "    <tr>\n",
       "      <th>1213</th>\n",
       "      <td>Zimbabwe</td>\n",
       "      <td>2013-2015</td>\n",
       "      <td>NaN</td>\n",
       "    </tr>\n",
       "    <tr>\n",
       "      <th>1214</th>\n",
       "      <td>Zimbabwe</td>\n",
       "      <td>2014-2016</td>\n",
       "      <td>NaN</td>\n",
       "    </tr>\n",
       "    <tr>\n",
       "      <th>1215</th>\n",
       "      <td>Zimbabwe</td>\n",
       "      <td>2015-2017</td>\n",
       "      <td>NaN</td>\n",
       "    </tr>\n",
       "    <tr>\n",
       "      <th>1216</th>\n",
       "      <td>Zimbabwe</td>\n",
       "      <td>2016-2018</td>\n",
       "      <td>NaN</td>\n",
       "    </tr>\n",
       "    <tr>\n",
       "      <th>1217</th>\n",
       "      <td>Zimbabwe</td>\n",
       "      <td>2017-2019</td>\n",
       "      <td>NaN</td>\n",
       "    </tr>\n",
       "  </tbody>\n",
       "</table>\n",
       "<p>1218 rows × 3 columns</p>\n",
       "</div>"
      ],
      "text/plain": [
       "             Zone      Année Valeur\n",
       "0     Afghanistan  2012-2014    8.6\n",
       "1     Afghanistan  2013-2015    8.8\n",
       "2     Afghanistan  2014-2016    8.9\n",
       "3     Afghanistan  2015-2017    9.7\n",
       "4     Afghanistan  2016-2018   10.5\n",
       "...           ...        ...    ...\n",
       "1213     Zimbabwe  2013-2015    NaN\n",
       "1214     Zimbabwe  2014-2016    NaN\n",
       "1215     Zimbabwe  2015-2017    NaN\n",
       "1216     Zimbabwe  2016-2018    NaN\n",
       "1217     Zimbabwe  2017-2019    NaN\n",
       "\n",
       "[1218 rows x 3 columns]"
      ]
     },
     "execution_count": 18,
     "metadata": {},
     "output_type": "execute_result"
    }
   ],
   "source": [
    "df_undernut"
   ]
  },
  {
   "cell_type": "markdown",
   "id": "484fc738-6229-4820-be9e-dd763ba82bd4",
   "metadata": {},
   "source": [
    "Affichage du typage des colonnes"
   ]
  },
  {
   "cell_type": "code",
   "execution_count": 19,
   "id": "a99ed698-4d62-467e-a5c9-fcddfb09468b",
   "metadata": {},
   "outputs": [
    {
     "data": {
      "text/plain": [
       "Zone      object\n",
       "Année     object\n",
       "Valeur    object\n",
       "dtype: object"
      ]
     },
     "execution_count": 19,
     "metadata": {},
     "output_type": "execute_result"
    }
   ],
   "source": [
    "df_undernut.dtypes"
   ]
  },
  {
   "cell_type": "markdown",
   "id": "c8900d2b-ff97-4742-a9fb-c534b0f7b45f",
   "metadata": {},
   "source": [
    "Y a-t-il des valeurs nulles?"
   ]
  },
  {
   "cell_type": "code",
   "execution_count": 20,
   "id": "365cd2f3-edec-4944-8a67-ff5c2417c468",
   "metadata": {},
   "outputs": [
    {
     "data": {
      "text/plain": [
       "Zone      False\n",
       "Année     False\n",
       "Valeur     True\n",
       "dtype: bool"
      ]
     },
     "execution_count": 20,
     "metadata": {},
     "output_type": "execute_result"
    }
   ],
   "source": [
    "df_undernut.isnull().any()"
   ]
  },
  {
   "cell_type": "markdown",
   "id": "d90d65fc-198a-4a01-be9d-52d8aa5d547e",
   "metadata": {},
   "source": [
    "### Conclusion\n",
    "2 fichiers ont des valeurs nulles\n",
    "- sous_nutrition\n",
    "- dispo_alimentaire<br>\n",
    "\n",
    "Je ne vais pas modifier ces valeurs pour le moment.\n",
    "\n",
    "2 attributs peuvent poser problème dans le fichier sous_nutrition :\n",
    "- \"Valeur\" qui devrait être un numérique.\n",
    "- \"Année\" qui est un intervalle de type Objet.\n",
    "\n",
    "Le fichier population contient bien une seule combinaison de Pays+Année"
   ]
  },
  {
   "cell_type": "markdown",
   "id": "2cf7f72d-2d2e-4d58-ac9c-6959f8b67cdf",
   "metadata": {
    "tags": []
   },
   "source": [
    "# II. Etude de la qualité des données, duplicatas, imputation, suppressions d'indicateurs"
   ]
  },
  {
   "cell_type": "markdown",
   "id": "e30a1b6e-8020-4eca-9f31-d3374c8def72",
   "metadata": {},
   "source": [
    "## Transformation de données"
   ]
  },
  {
   "cell_type": "markdown",
   "id": "ef2ac613-48a9-4b28-9068-bfec0b015725",
   "metadata": {},
   "source": [
    "La colonne *Valeur* est un objet, ce qui ne nous permet pas de l'exploiter arithmétiquement.<br>\n",
    "Je la transforme en float dans le dataframe sous_nutrition."
   ]
  },
  {
   "cell_type": "code",
   "execution_count": 21,
   "id": "4d1ef8f5-ea3e-4dbf-b72b-674d87b2fc22",
   "metadata": {},
   "outputs": [],
   "source": [
    "# On attribue 0 pour toutes les occurences valant \"<0.1\" qui bloque la conversion\n",
    "df_undernut.loc[df_undernut['Valeur'] == '<0.1', 'Valeur'] = 0\n",
    "\n",
    "# Et maintenant on peut convertir\n",
    "df_undernut.Valeur=pd.to_numeric(df_undernut[\"Valeur\"])"
   ]
  },
  {
   "cell_type": "markdown",
   "id": "64751aa3-e070-4a3f-a903-2c0b03f3e4af",
   "metadata": {},
   "source": [
    "Pour faciliter la lecture et les éventuelles jointures à venir, je convertis la colonne *Année* dans le dataframe sous_nutrition en un int contenant une année et non plus un intervalle.<br>\n",
    "Je récupère les valeurs uniques de cette colonne pour avoir les informations des données à remplacer.<br>\n",
    "Enfin, je vérifie que la conversion est ok en regardant le type de données après application de la fonction"
   ]
  },
  {
   "cell_type": "code",
   "execution_count": 22,
   "id": "1bd3da14-e372-43a8-a214-c84be4452450",
   "metadata": {},
   "outputs": [
    {
     "data": {
      "text/plain": [
       "array(['2012-2014', '2013-2015', '2014-2016', '2015-2017', '2016-2018',\n",
       "       '2017-2019'], dtype=object)"
      ]
     },
     "execution_count": 22,
     "metadata": {},
     "output_type": "execute_result"
    }
   ],
   "source": [
    "df_undernut.Année.unique()"
   ]
  },
  {
   "cell_type": "code",
   "execution_count": 24,
   "id": "ee55d171-526d-4484-90e7-0f5a48cfe09b",
   "metadata": {},
   "outputs": [
    {
     "data": {
      "text/plain": [
       "Zone       object\n",
       "Année       int64\n",
       "Valeur    float64\n",
       "dtype: object"
      ]
     },
     "execution_count": 24,
     "metadata": {},
     "output_type": "execute_result"
    }
   ],
   "source": [
    "#Appel de la fonction de transformation de l'année\n",
    "df_undernut.Année=df_undernut.Année.apply(cf.transform_year).astype(int)\n",
    "df_undernut.dtypes"
   ]
  },
  {
   "cell_type": "markdown",
   "id": "184f53f3-3287-4b9d-874d-c0ea00663562",
   "metadata": {
    "tags": []
   },
   "source": [
    "## Conversion de données"
   ]
  },
  {
   "cell_type": "markdown",
   "id": "ed9ffe7e-3dd8-4324-865b-acd21814e19f",
   "metadata": {},
   "source": [
    "Dans le dataframe population, on convertit le nombre d'habitants en milliers (colonne *Valeur*), puis on passe la donnée en entier numérique"
   ]
  },
  {
   "cell_type": "code",
   "execution_count": 25,
   "id": "fac49e3a-c863-4afe-98b5-d287fc5849c9",
   "metadata": {},
   "outputs": [
    {
     "data": {
      "text/html": [
       "<div>\n",
       "<style scoped>\n",
       "    .dataframe tbody tr th:only-of-type {\n",
       "        vertical-align: middle;\n",
       "    }\n",
       "\n",
       "    .dataframe tbody tr th {\n",
       "        vertical-align: top;\n",
       "    }\n",
       "\n",
       "    .dataframe thead th {\n",
       "        text-align: right;\n",
       "    }\n",
       "</style>\n",
       "<table border=\"1\" class=\"dataframe\">\n",
       "  <thead>\n",
       "    <tr style=\"text-align: right;\">\n",
       "      <th></th>\n",
       "      <th>Zone</th>\n",
       "      <th>Année</th>\n",
       "      <th>Valeur</th>\n",
       "    </tr>\n",
       "  </thead>\n",
       "  <tbody>\n",
       "    <tr>\n",
       "      <th>0</th>\n",
       "      <td>Afghanistan</td>\n",
       "      <td>2013</td>\n",
       "      <td>32269589</td>\n",
       "    </tr>\n",
       "    <tr>\n",
       "      <th>1</th>\n",
       "      <td>Afghanistan</td>\n",
       "      <td>2014</td>\n",
       "      <td>33370794</td>\n",
       "    </tr>\n",
       "    <tr>\n",
       "      <th>2</th>\n",
       "      <td>Afghanistan</td>\n",
       "      <td>2015</td>\n",
       "      <td>34413603</td>\n",
       "    </tr>\n",
       "    <tr>\n",
       "      <th>3</th>\n",
       "      <td>Afghanistan</td>\n",
       "      <td>2016</td>\n",
       "      <td>35383032</td>\n",
       "    </tr>\n",
       "    <tr>\n",
       "      <th>4</th>\n",
       "      <td>Afghanistan</td>\n",
       "      <td>2017</td>\n",
       "      <td>36296113</td>\n",
       "    </tr>\n",
       "    <tr>\n",
       "      <th>...</th>\n",
       "      <td>...</td>\n",
       "      <td>...</td>\n",
       "      <td>...</td>\n",
       "    </tr>\n",
       "    <tr>\n",
       "      <th>1411</th>\n",
       "      <td>Zimbabwe</td>\n",
       "      <td>2014</td>\n",
       "      <td>13586707</td>\n",
       "    </tr>\n",
       "    <tr>\n",
       "      <th>1412</th>\n",
       "      <td>Zimbabwe</td>\n",
       "      <td>2015</td>\n",
       "      <td>13814629</td>\n",
       "    </tr>\n",
       "    <tr>\n",
       "      <th>1413</th>\n",
       "      <td>Zimbabwe</td>\n",
       "      <td>2016</td>\n",
       "      <td>14030331</td>\n",
       "    </tr>\n",
       "    <tr>\n",
       "      <th>1414</th>\n",
       "      <td>Zimbabwe</td>\n",
       "      <td>2017</td>\n",
       "      <td>14236595</td>\n",
       "    </tr>\n",
       "    <tr>\n",
       "      <th>1415</th>\n",
       "      <td>Zimbabwe</td>\n",
       "      <td>2018</td>\n",
       "      <td>14438802</td>\n",
       "    </tr>\n",
       "  </tbody>\n",
       "</table>\n",
       "<p>1416 rows × 3 columns</p>\n",
       "</div>"
      ],
      "text/plain": [
       "             Zone  Année    Valeur\n",
       "0     Afghanistan   2013  32269589\n",
       "1     Afghanistan   2014  33370794\n",
       "2     Afghanistan   2015  34413603\n",
       "3     Afghanistan   2016  35383032\n",
       "4     Afghanistan   2017  36296113\n",
       "...           ...    ...       ...\n",
       "1411     Zimbabwe   2014  13586707\n",
       "1412     Zimbabwe   2015  13814629\n",
       "1413     Zimbabwe   2016  14030331\n",
       "1414     Zimbabwe   2017  14236595\n",
       "1415     Zimbabwe   2018  14438802\n",
       "\n",
       "[1416 rows x 3 columns]"
      ]
     },
     "execution_count": 25,
     "metadata": {},
     "output_type": "execute_result"
    }
   ],
   "source": [
    "df_pop['Valeur']*=1000\n",
    "df_pop['Valeur']=df_pop['Valeur'].astype('int')\n",
    "df_pop"
   ]
  },
  {
   "cell_type": "markdown",
   "id": "c1b85f14-f6e1-45d5-ba2c-810c880ac5dc",
   "metadata": {},
   "source": [
    "Dans le dataframe sous_nutrition, on convertit le nombre d'habitants en millions (colonne *Valeur*), puis on passe la donnée en entier numérique"
   ]
  },
  {
   "cell_type": "code",
   "execution_count": 26,
   "id": "866d0896-a0ca-4b50-9a2e-3e59e8310c18",
   "metadata": {},
   "outputs": [
    {
     "data": {
      "text/html": [
       "<div>\n",
       "<style scoped>\n",
       "    .dataframe tbody tr th:only-of-type {\n",
       "        vertical-align: middle;\n",
       "    }\n",
       "\n",
       "    .dataframe tbody tr th {\n",
       "        vertical-align: top;\n",
       "    }\n",
       "\n",
       "    .dataframe thead th {\n",
       "        text-align: right;\n",
       "    }\n",
       "</style>\n",
       "<table border=\"1\" class=\"dataframe\">\n",
       "  <thead>\n",
       "    <tr style=\"text-align: right;\">\n",
       "      <th></th>\n",
       "      <th>Zone</th>\n",
       "      <th>Année</th>\n",
       "      <th>Valeur</th>\n",
       "    </tr>\n",
       "  </thead>\n",
       "  <tbody>\n",
       "    <tr>\n",
       "      <th>0</th>\n",
       "      <td>Afghanistan</td>\n",
       "      <td>2013</td>\n",
       "      <td>8600000.0</td>\n",
       "    </tr>\n",
       "    <tr>\n",
       "      <th>1</th>\n",
       "      <td>Afghanistan</td>\n",
       "      <td>2014</td>\n",
       "      <td>8800000.0</td>\n",
       "    </tr>\n",
       "    <tr>\n",
       "      <th>2</th>\n",
       "      <td>Afghanistan</td>\n",
       "      <td>2015</td>\n",
       "      <td>8900000.0</td>\n",
       "    </tr>\n",
       "    <tr>\n",
       "      <th>3</th>\n",
       "      <td>Afghanistan</td>\n",
       "      <td>2016</td>\n",
       "      <td>9700000.0</td>\n",
       "    </tr>\n",
       "    <tr>\n",
       "      <th>4</th>\n",
       "      <td>Afghanistan</td>\n",
       "      <td>2017</td>\n",
       "      <td>10500000.0</td>\n",
       "    </tr>\n",
       "    <tr>\n",
       "      <th>...</th>\n",
       "      <td>...</td>\n",
       "      <td>...</td>\n",
       "      <td>...</td>\n",
       "    </tr>\n",
       "    <tr>\n",
       "      <th>1213</th>\n",
       "      <td>Zimbabwe</td>\n",
       "      <td>2014</td>\n",
       "      <td>NaN</td>\n",
       "    </tr>\n",
       "    <tr>\n",
       "      <th>1214</th>\n",
       "      <td>Zimbabwe</td>\n",
       "      <td>2015</td>\n",
       "      <td>NaN</td>\n",
       "    </tr>\n",
       "    <tr>\n",
       "      <th>1215</th>\n",
       "      <td>Zimbabwe</td>\n",
       "      <td>2016</td>\n",
       "      <td>NaN</td>\n",
       "    </tr>\n",
       "    <tr>\n",
       "      <th>1216</th>\n",
       "      <td>Zimbabwe</td>\n",
       "      <td>2017</td>\n",
       "      <td>NaN</td>\n",
       "    </tr>\n",
       "    <tr>\n",
       "      <th>1217</th>\n",
       "      <td>Zimbabwe</td>\n",
       "      <td>2018</td>\n",
       "      <td>NaN</td>\n",
       "    </tr>\n",
       "  </tbody>\n",
       "</table>\n",
       "<p>1218 rows × 3 columns</p>\n",
       "</div>"
      ],
      "text/plain": [
       "             Zone  Année      Valeur\n",
       "0     Afghanistan   2013   8600000.0\n",
       "1     Afghanistan   2014   8800000.0\n",
       "2     Afghanistan   2015   8900000.0\n",
       "3     Afghanistan   2016   9700000.0\n",
       "4     Afghanistan   2017  10500000.0\n",
       "...           ...    ...         ...\n",
       "1213     Zimbabwe   2014         NaN\n",
       "1214     Zimbabwe   2015         NaN\n",
       "1215     Zimbabwe   2016         NaN\n",
       "1216     Zimbabwe   2017         NaN\n",
       "1217     Zimbabwe   2018         NaN\n",
       "\n",
       "[1218 rows x 3 columns]"
      ]
     },
     "execution_count": 26,
     "metadata": {},
     "output_type": "execute_result"
    }
   ],
   "source": [
    "df_undernut['Valeur']*=1000000\n",
    "#df_undernut['Valeur']=df_undernut['Valeur'].astype('int') Pas de conversion à cause des Nan\n",
    "df_undernut"
   ]
  },
  {
   "cell_type": "markdown",
   "id": "da641bcb-6b2c-4391-a1b6-9289d35be4f4",
   "metadata": {},
   "source": [
    "Comme les données de dispo_alimentaire sont exprimées, pour ce qui est des disponibilités et autres, en millier de tonnes, on convertit la colonne *Valeur*, exprimée en tonne, en milliers de tonnes."
   ]
  },
  {
   "cell_type": "code",
   "execution_count": 27,
   "id": "0acea11f-5f2d-403c-9a75-7f5243828f2b",
   "metadata": {},
   "outputs": [
    {
     "data": {
      "text/html": [
       "<div>\n",
       "<style scoped>\n",
       "    .dataframe tbody tr th:only-of-type {\n",
       "        vertical-align: middle;\n",
       "    }\n",
       "\n",
       "    .dataframe tbody tr th {\n",
       "        vertical-align: top;\n",
       "    }\n",
       "\n",
       "    .dataframe thead th {\n",
       "        text-align: right;\n",
       "    }\n",
       "</style>\n",
       "<table border=\"1\" class=\"dataframe\">\n",
       "  <thead>\n",
       "    <tr style=\"text-align: right;\">\n",
       "      <th></th>\n",
       "      <th>Pays bénéficiaire</th>\n",
       "      <th>Année</th>\n",
       "      <th>Produit</th>\n",
       "      <th>Valeur</th>\n",
       "    </tr>\n",
       "  </thead>\n",
       "  <tbody>\n",
       "    <tr>\n",
       "      <th>0</th>\n",
       "      <td>Afghanistan</td>\n",
       "      <td>2013</td>\n",
       "      <td>Autres non-céréales</td>\n",
       "      <td>682000</td>\n",
       "    </tr>\n",
       "    <tr>\n",
       "      <th>1</th>\n",
       "      <td>Afghanistan</td>\n",
       "      <td>2014</td>\n",
       "      <td>Autres non-céréales</td>\n",
       "      <td>335000</td>\n",
       "    </tr>\n",
       "    <tr>\n",
       "      <th>2</th>\n",
       "      <td>Afghanistan</td>\n",
       "      <td>2013</td>\n",
       "      <td>Blé et Farin</td>\n",
       "      <td>39224000</td>\n",
       "    </tr>\n",
       "    <tr>\n",
       "      <th>3</th>\n",
       "      <td>Afghanistan</td>\n",
       "      <td>2014</td>\n",
       "      <td>Blé et Farin</td>\n",
       "      <td>15160000</td>\n",
       "    </tr>\n",
       "    <tr>\n",
       "      <th>4</th>\n",
       "      <td>Afghanistan</td>\n",
       "      <td>2013</td>\n",
       "      <td>Céréales</td>\n",
       "      <td>40504000</td>\n",
       "    </tr>\n",
       "    <tr>\n",
       "      <th>...</th>\n",
       "      <td>...</td>\n",
       "      <td>...</td>\n",
       "      <td>...</td>\n",
       "      <td>...</td>\n",
       "    </tr>\n",
       "    <tr>\n",
       "      <th>1470</th>\n",
       "      <td>Zimbabwe</td>\n",
       "      <td>2015</td>\n",
       "      <td>Mélanges et préparations</td>\n",
       "      <td>96000</td>\n",
       "    </tr>\n",
       "    <tr>\n",
       "      <th>1471</th>\n",
       "      <td>Zimbabwe</td>\n",
       "      <td>2013</td>\n",
       "      <td>Non-céréales</td>\n",
       "      <td>5022000</td>\n",
       "    </tr>\n",
       "    <tr>\n",
       "      <th>1472</th>\n",
       "      <td>Zimbabwe</td>\n",
       "      <td>2014</td>\n",
       "      <td>Non-céréales</td>\n",
       "      <td>2310000</td>\n",
       "    </tr>\n",
       "    <tr>\n",
       "      <th>1473</th>\n",
       "      <td>Zimbabwe</td>\n",
       "      <td>2015</td>\n",
       "      <td>Non-céréales</td>\n",
       "      <td>306000</td>\n",
       "    </tr>\n",
       "    <tr>\n",
       "      <th>1474</th>\n",
       "      <td>Zimbabwe</td>\n",
       "      <td>2013</td>\n",
       "      <td>Riz, total</td>\n",
       "      <td>64000</td>\n",
       "    </tr>\n",
       "  </tbody>\n",
       "</table>\n",
       "<p>1475 rows × 4 columns</p>\n",
       "</div>"
      ],
      "text/plain": [
       "     Pays bénéficiaire  Année                   Produit    Valeur\n",
       "0          Afghanistan   2013       Autres non-céréales    682000\n",
       "1          Afghanistan   2014       Autres non-céréales    335000\n",
       "2          Afghanistan   2013              Blé et Farin  39224000\n",
       "3          Afghanistan   2014              Blé et Farin  15160000\n",
       "4          Afghanistan   2013                  Céréales  40504000\n",
       "...                ...    ...                       ...       ...\n",
       "1470          Zimbabwe   2015  Mélanges et préparations     96000\n",
       "1471          Zimbabwe   2013              Non-céréales   5022000\n",
       "1472          Zimbabwe   2014              Non-céréales   2310000\n",
       "1473          Zimbabwe   2015              Non-céréales    306000\n",
       "1474          Zimbabwe   2013                Riz, total     64000\n",
       "\n",
       "[1475 rows x 4 columns]"
      ]
     },
     "execution_count": 27,
     "metadata": {},
     "output_type": "execute_result"
    }
   ],
   "source": [
    "df_foodaid.Valeur*=1000\n",
    "df_foodaid"
   ]
  },
  {
   "cell_type": "markdown",
   "id": "463cc91d-fc7d-4e3f-a6ac-10bdb423ad6f",
   "metadata": {
    "tags": []
   },
   "source": [
    "# III. Analyse statistique, création de nouveaux indicateurs, filtrage, jointure de fichiers, visualisations."
   ]
  },
  {
   "cell_type": "markdown",
   "id": "7c399bef-a584-4ea0-b4b5-74d09b085f58",
   "metadata": {
    "tags": []
   },
   "source": [
    "## Analyse par pays de la proportion de personnes sous-alimentées en 2017\n",
    "\n",
    "Etapes :\n",
    "- Fusionner les tableaux sous-nutrition et population sur la clé \"Zone/Année\"\n",
    "    - On s'aperçoit, en faisaint une jointure externe, que certains pays sont présents dans un tableau et pas dans l'autre.\n",
    "    - On va vérifier si on retrouve bien tous les pays du tableau le plus court dans le tableau le plus long : \n",
    "        - Si oui, on continue. \n",
    "        - Si non, il faufra identifier les écarts\n",
    "- Créer une nouvelle colonne indiquant la proportion\n",
    "- Tri des données sur 2017"
   ]
  },
  {
   "cell_type": "code",
   "execution_count": 30,
   "id": "1e2c4dfd-0756-4096-94f6-b76d78a4d2a1",
   "metadata": {},
   "outputs": [
    {
     "name": "stdout",
     "output_type": "stream",
     "text": [
      "236\n"
     ]
    }
   ],
   "source": [
    "# Création d'une liste des pays uniques (issue du fichier population) et de son dataframe\n",
    "pop_unique_country_list=df_pop.Zone.unique()\n",
    "df_pop_unique_country=pd.DataFrame(pop_unique_country_list, columns=[\"Zone\"])\n",
    "print(len(df_pop_unique_country))"
   ]
  },
  {
   "cell_type": "code",
   "execution_count": 31,
   "id": "1c1ff778-c19b-4980-a358-d8d10724aa3f",
   "metadata": {},
   "outputs": [
    {
     "name": "stdout",
     "output_type": "stream",
     "text": [
      "203\n"
     ]
    }
   ],
   "source": [
    "# Création d'une liste des pays uniques (issue du fichier sous-nutrition) et de son dataframe\n",
    "undernourished_unique_country_list=df_undernut.Zone.unique()\n",
    "df_undernourished_unique_country=pd.DataFrame(undernourished_unique_country_list, columns=[\"Zone\"])\n",
    "print(len(undernourished_unique_country_list))"
   ]
  },
  {
   "cell_type": "markdown",
   "id": "efa4c2eb-8910-47f4-8ea8-482302781820",
   "metadata": {},
   "source": [
    "Si tous les pays de la liste du fichier sous-nutrition sont présents, alors il n'est pas nécessaire de comparer la liste des pays du tableau population.<br>\n",
    "Le cas contraire, on lance également la fonction en inversant la comparaison. On identifiera alors les écarts et apportera les évenutelles corrections."
   ]
  },
  {
   "cell_type": "code",
   "execution_count": 32,
   "id": "be88d6ea-1877-46f0-a810-5f6580ee96d9",
   "metadata": {},
   "outputs": [
    {
     "name": "stdout",
     "output_type": "stream",
     "text": [
      "Tous les pays présents dans sous_alimentation sont présents dans le fichier population\n"
     ]
    }
   ],
   "source": [
    "df_missing_countries_from_undernourished=cf.compare_content_dataframe(df_undernourished_unique_country,pop_unique_country_list)\n",
    "\n",
    "if len(df_missing_countries_from_undernourished[df_missing_countries_from_undernourished[\"Present dans la liste\"]==\"Non\"])!=0:\n",
    "    df_missing_countries_from_pop = cf.compare_content_dataframe(df_pop_unique_country,undernourished_unique_country_list)\n",
    "    print(df_missing_countries_from_pop[df_missing_countries_from_pop[\"Present dans la liste\"]==\"Non\"])\n",
    "    print(f\"\"\"Les pays non trouvés dans le fichier population sont les suivants :\n",
    "          {df_missing_countries_from_undernourished[df_missing_countries_from_undernourished[\"Present dans la liste\"]==\"Non\"]}\"\"\")\n",
    "    potential_countries = cf.search_for_potential_matching(df_missing_countries_from_undernourished[df_missing_countries_from_undernourished[\"Present dans la liste\"]==\"Non\"][\"Zone\"]\\\n",
    "                    , df_missing_countries_from_pop[df_missing_countries_from_pop[\"Present dans la liste\"]==\"Non\"][\"Zone\"],\\\n",
    "                    pop_unique_country_list,undernourished_unique_country_list)\n",
    "    print (f\"Voici la liste des pays qui pourraient correspondre au pays manquants :{potential_countries}.\")\n",
    "else:\n",
    "    print(\"Tous les pays présents dans sous_alimentation sont présents dans le fichier population\")  \n"
   ]
  },
  {
   "cell_type": "markdown",
   "id": "4b7ffcfe-9a3d-4945-8b06-ee64f4b7418c",
   "metadata": {},
   "source": [
    "On merge les fichiers fichiers sur la base du couple Zone/Année"
   ]
  },
  {
   "cell_type": "code",
   "execution_count": 33,
   "id": "be80fc6c-7d70-4348-80c9-359126365f08",
   "metadata": {},
   "outputs": [
    {
     "data": {
      "text/html": [
       "<div>\n",
       "<style scoped>\n",
       "    .dataframe tbody tr th:only-of-type {\n",
       "        vertical-align: middle;\n",
       "    }\n",
       "\n",
       "    .dataframe tbody tr th {\n",
       "        vertical-align: top;\n",
       "    }\n",
       "\n",
       "    .dataframe thead th {\n",
       "        text-align: right;\n",
       "    }\n",
       "</style>\n",
       "<table border=\"1\" class=\"dataframe\">\n",
       "  <thead>\n",
       "    <tr style=\"text-align: right;\">\n",
       "      <th></th>\n",
       "      <th>Pays</th>\n",
       "      <th>Année</th>\n",
       "      <th>Habitants en sous-nutrition</th>\n",
       "      <th>Population totale</th>\n",
       "    </tr>\n",
       "  </thead>\n",
       "  <tbody>\n",
       "    <tr>\n",
       "      <th>0</th>\n",
       "      <td>Afghanistan</td>\n",
       "      <td>2013</td>\n",
       "      <td>8600000.0</td>\n",
       "      <td>32269589</td>\n",
       "    </tr>\n",
       "    <tr>\n",
       "      <th>1</th>\n",
       "      <td>Afghanistan</td>\n",
       "      <td>2014</td>\n",
       "      <td>8800000.0</td>\n",
       "      <td>33370794</td>\n",
       "    </tr>\n",
       "    <tr>\n",
       "      <th>2</th>\n",
       "      <td>Afghanistan</td>\n",
       "      <td>2015</td>\n",
       "      <td>8900000.0</td>\n",
       "      <td>34413603</td>\n",
       "    </tr>\n",
       "    <tr>\n",
       "      <th>3</th>\n",
       "      <td>Afghanistan</td>\n",
       "      <td>2016</td>\n",
       "      <td>9700000.0</td>\n",
       "      <td>35383032</td>\n",
       "    </tr>\n",
       "    <tr>\n",
       "      <th>4</th>\n",
       "      <td>Afghanistan</td>\n",
       "      <td>2017</td>\n",
       "      <td>10500000.0</td>\n",
       "      <td>36296113</td>\n",
       "    </tr>\n",
       "    <tr>\n",
       "      <th>...</th>\n",
       "      <td>...</td>\n",
       "      <td>...</td>\n",
       "      <td>...</td>\n",
       "      <td>...</td>\n",
       "    </tr>\n",
       "    <tr>\n",
       "      <th>1213</th>\n",
       "      <td>Zimbabwe</td>\n",
       "      <td>2014</td>\n",
       "      <td>NaN</td>\n",
       "      <td>13586707</td>\n",
       "    </tr>\n",
       "    <tr>\n",
       "      <th>1214</th>\n",
       "      <td>Zimbabwe</td>\n",
       "      <td>2015</td>\n",
       "      <td>NaN</td>\n",
       "      <td>13814629</td>\n",
       "    </tr>\n",
       "    <tr>\n",
       "      <th>1215</th>\n",
       "      <td>Zimbabwe</td>\n",
       "      <td>2016</td>\n",
       "      <td>NaN</td>\n",
       "      <td>14030331</td>\n",
       "    </tr>\n",
       "    <tr>\n",
       "      <th>1216</th>\n",
       "      <td>Zimbabwe</td>\n",
       "      <td>2017</td>\n",
       "      <td>NaN</td>\n",
       "      <td>14236595</td>\n",
       "    </tr>\n",
       "    <tr>\n",
       "      <th>1217</th>\n",
       "      <td>Zimbabwe</td>\n",
       "      <td>2018</td>\n",
       "      <td>NaN</td>\n",
       "      <td>14438802</td>\n",
       "    </tr>\n",
       "  </tbody>\n",
       "</table>\n",
       "<p>1218 rows × 4 columns</p>\n",
       "</div>"
      ],
      "text/plain": [
       "             Pays  Année  Habitants en sous-nutrition  Population totale\n",
       "0     Afghanistan   2013                    8600000.0           32269589\n",
       "1     Afghanistan   2014                    8800000.0           33370794\n",
       "2     Afghanistan   2015                    8900000.0           34413603\n",
       "3     Afghanistan   2016                    9700000.0           35383032\n",
       "4     Afghanistan   2017                   10500000.0           36296113\n",
       "...           ...    ...                          ...                ...\n",
       "1213     Zimbabwe   2014                          NaN           13586707\n",
       "1214     Zimbabwe   2015                          NaN           13814629\n",
       "1215     Zimbabwe   2016                          NaN           14030331\n",
       "1216     Zimbabwe   2017                          NaN           14236595\n",
       "1217     Zimbabwe   2018                          NaN           14438802\n",
       "\n",
       "[1218 rows x 4 columns]"
      ]
     },
     "execution_count": 33,
     "metadata": {},
     "output_type": "execute_result"
    }
   ],
   "source": [
    "df_undernourished_pop=df_undernut.merge(df_pop, left_on=[\"Zone\",\"Année\"], right_on=[\"Zone\",\"Année\"])\n",
    "df_undernourished_pop.rename(columns={\"Valeur_x\" : \"Habitants en sous-nutrition\",\"Valeur_y\":\"Population totale\", \"Zone\":\"Pays\"}, inplace=True)\n",
    "df_undernourished_pop"
   ]
  },
  {
   "cell_type": "markdown",
   "id": "fe0901ec-4c05-4b3e-b6bf-d0dcb24d38da",
   "metadata": {},
   "source": [
    "On identifie les valeurs inutiles pour notre analyse:<br>\n",
    "NaN signifie qu'on n'a pas l'information, et 0 que le pays n'est a priori pas en sous-nutrition.<br>"
   ]
  },
  {
   "cell_type": "code",
   "execution_count": 34,
   "id": "f310e3f4-7cd8-4c8d-8a53-62c187d2a79e",
   "metadata": {},
   "outputs": [
    {
     "name": "stdout",
     "output_type": "stream",
     "text": [
      "La colonne 'Habitants en sous-nutrition' contient 120 valeurs à 0, et 594 valeurs Nan.\n"
     ]
    }
   ],
   "source": [
    "zero_value=df_undernourished_pop[df_undernourished_pop[\"Habitants en sous-nutrition\"]==0]\n",
    "nan_value=df_undernourished_pop[df_undernourished_pop[\"Habitants en sous-nutrition\"].isna()]\n",
    "print(f\"La colonne 'Habitants en sous-nutrition' contient {zero_value.shape[0]} valeurs à 0, et {nan_value.shape[0]} valeurs Nan.\")\n"
   ]
  },
  {
   "cell_type": "markdown",
   "id": "370f37d3-7f2d-4783-8062-6fca23160041",
   "metadata": {},
   "source": [
    "Nous n'avons donc pas d'utilité à conserver ces pays pour notre analyse sur la sous-nutrition.<br>\n",
    "On va supprimer les Nan puis supprimer toutes les lignes ayant 0 en ayant d'abord pris soin de les enregistrer dans un tableau."
   ]
  },
  {
   "cell_type": "markdown",
   "id": "dace5355-8bb9-4a9f-ad3e-4196e74c66ab",
   "metadata": {},
   "source": [
    "Sauvegarde des données inexploitables"
   ]
  },
  {
   "cell_type": "code",
   "execution_count": 35,
   "id": "4b83322a-dc2b-4631-84b1-4ff261f9e552",
   "metadata": {
    "tags": []
   },
   "outputs": [],
   "source": [
    "null_df_undernut_pop=df_undernourished_pop.copy()\n",
    "null_df_undernut_pop=pd.concat([zero_value,nan_value])"
   ]
  },
  {
   "cell_type": "markdown",
   "id": "39235750-f09f-4722-abd0-fee906ba103a",
   "metadata": {},
   "source": [
    "Suppression des données inexploitables"
   ]
  },
  {
   "cell_type": "code",
   "execution_count": 36,
   "id": "1b62af3d-f15f-4ac0-916c-816ef9a85579",
   "metadata": {},
   "outputs": [
    {
     "name": "stdout",
     "output_type": "stream",
     "text": [
      "Au départ, nous avions 1218 lignes.\n",
      "Nous avons identifié 714 valeurs à supprimer.\n",
      "Il nous reste bien 504 lignes.\n"
     ]
    }
   ],
   "source": [
    "final_df_undernut_pop=df_undernourished_pop.copy()\n",
    "final_df_undernut_pop.dropna(axis=0, subset=[\"Habitants en sous-nutrition\"], inplace=True) #subset permet de ne cibler qu'une liste de colonne(s) sur lesquelles on regarde si les valeurs sont nulles\n",
    "final_df_undernut_pop.drop(final_df_undernut_pop[final_df_undernut_pop[\"Habitants en sous-nutrition\"]==0].index, inplace=True)\n",
    "print(f'''Au départ, nous avions {len(df_undernourished_pop)} lignes.\n",
    "Nous avons identifié {zero_value.shape[0]+nan_value.shape[0]} valeurs à supprimer.\n",
    "Il nous reste bien {len(final_df_undernut_pop)} lignes.''')"
   ]
  },
  {
   "cell_type": "code",
   "execution_count": 37,
   "id": "542cba58-2076-4857-8a12-ed924622b283",
   "metadata": {},
   "outputs": [
    {
     "data": {
      "text/html": [
       "<div>\n",
       "<style scoped>\n",
       "    .dataframe tbody tr th:only-of-type {\n",
       "        vertical-align: middle;\n",
       "    }\n",
       "\n",
       "    .dataframe tbody tr th {\n",
       "        vertical-align: top;\n",
       "    }\n",
       "\n",
       "    .dataframe thead th {\n",
       "        text-align: right;\n",
       "    }\n",
       "</style>\n",
       "<table border=\"1\" class=\"dataframe\">\n",
       "  <thead>\n",
       "    <tr style=\"text-align: right;\">\n",
       "      <th></th>\n",
       "      <th>Pays</th>\n",
       "      <th>Année</th>\n",
       "      <th>Habitants en sous-nutrition</th>\n",
       "      <th>Population totale</th>\n",
       "      <th>Pourcentage sous-nutrition</th>\n",
       "    </tr>\n",
       "  </thead>\n",
       "  <tbody>\n",
       "    <tr>\n",
       "      <th>0</th>\n",
       "      <td>Afghanistan</td>\n",
       "      <td>2013</td>\n",
       "      <td>8600000.0</td>\n",
       "      <td>32269589</td>\n",
       "      <td>26.650479</td>\n",
       "    </tr>\n",
       "    <tr>\n",
       "      <th>1</th>\n",
       "      <td>Afghanistan</td>\n",
       "      <td>2014</td>\n",
       "      <td>8800000.0</td>\n",
       "      <td>33370794</td>\n",
       "      <td>26.370364</td>\n",
       "    </tr>\n",
       "    <tr>\n",
       "      <th>2</th>\n",
       "      <td>Afghanistan</td>\n",
       "      <td>2015</td>\n",
       "      <td>8900000.0</td>\n",
       "      <td>34413603</td>\n",
       "      <td>25.861866</td>\n",
       "    </tr>\n",
       "    <tr>\n",
       "      <th>3</th>\n",
       "      <td>Afghanistan</td>\n",
       "      <td>2016</td>\n",
       "      <td>9700000.0</td>\n",
       "      <td>35383032</td>\n",
       "      <td>27.414270</td>\n",
       "    </tr>\n",
       "    <tr>\n",
       "      <th>4</th>\n",
       "      <td>Afghanistan</td>\n",
       "      <td>2017</td>\n",
       "      <td>10500000.0</td>\n",
       "      <td>36296113</td>\n",
       "      <td>28.928718</td>\n",
       "    </tr>\n",
       "    <tr>\n",
       "      <th>5</th>\n",
       "      <td>Afghanistan</td>\n",
       "      <td>2018</td>\n",
       "      <td>11100000.0</td>\n",
       "      <td>37171921</td>\n",
       "      <td>29.861249</td>\n",
       "    </tr>\n",
       "    <tr>\n",
       "      <th>6</th>\n",
       "      <td>Afrique du Sud</td>\n",
       "      <td>2013</td>\n",
       "      <td>2200000.0</td>\n",
       "      <td>53687121</td>\n",
       "      <td>4.097817</td>\n",
       "    </tr>\n",
       "    <tr>\n",
       "      <th>7</th>\n",
       "      <td>Afrique du Sud</td>\n",
       "      <td>2014</td>\n",
       "      <td>2500000.0</td>\n",
       "      <td>54544186</td>\n",
       "      <td>4.583440</td>\n",
       "    </tr>\n",
       "    <tr>\n",
       "      <th>8</th>\n",
       "      <td>Afrique du Sud</td>\n",
       "      <td>2015</td>\n",
       "      <td>2800000.0</td>\n",
       "      <td>55386367</td>\n",
       "      <td>5.055396</td>\n",
       "    </tr>\n",
       "    <tr>\n",
       "      <th>9</th>\n",
       "      <td>Afrique du Sud</td>\n",
       "      <td>2016</td>\n",
       "      <td>3000000.0</td>\n",
       "      <td>56207645</td>\n",
       "      <td>5.337352</td>\n",
       "    </tr>\n",
       "  </tbody>\n",
       "</table>\n",
       "</div>"
      ],
      "text/plain": [
       "             Pays  Année  Habitants en sous-nutrition  Population totale  \\\n",
       "0     Afghanistan   2013                    8600000.0           32269589   \n",
       "1     Afghanistan   2014                    8800000.0           33370794   \n",
       "2     Afghanistan   2015                    8900000.0           34413603   \n",
       "3     Afghanistan   2016                    9700000.0           35383032   \n",
       "4     Afghanistan   2017                   10500000.0           36296113   \n",
       "5     Afghanistan   2018                   11100000.0           37171921   \n",
       "6  Afrique du Sud   2013                    2200000.0           53687121   \n",
       "7  Afrique du Sud   2014                    2500000.0           54544186   \n",
       "8  Afrique du Sud   2015                    2800000.0           55386367   \n",
       "9  Afrique du Sud   2016                    3000000.0           56207645   \n",
       "\n",
       "   Pourcentage sous-nutrition  \n",
       "0                   26.650479  \n",
       "1                   26.370364  \n",
       "2                   25.861866  \n",
       "3                   27.414270  \n",
       "4                   28.928718  \n",
       "5                   29.861249  \n",
       "6                    4.097817  \n",
       "7                    4.583440  \n",
       "8                    5.055396  \n",
       "9                    5.337352  "
      ]
     },
     "execution_count": 37,
     "metadata": {},
     "output_type": "execute_result"
    }
   ],
   "source": [
    "percent_undernourished=final_df_undernut_pop[\"Habitants en sous-nutrition\"]/final_df_undernut_pop[\"Population totale\"]\n",
    "final_df_undernut_pop[\"Pourcentage sous-nutrition\"]=percent_undernourished*100\n",
    "final_df_undernut_pop.head(10)"
   ]
  },
  {
   "cell_type": "code",
   "execution_count": 38,
   "id": "41804181-a8c9-4684-a26d-0c169fbe6af5",
   "metadata": {},
   "outputs": [
    {
     "name": "stdout",
     "output_type": "stream",
     "text": [
      "Liste des 15 pays les plus sous alimentés en proportion de leur nombre d'habitants\n"
     ]
    },
    {
     "data": {
      "text/html": [
       "<div>\n",
       "<style scoped>\n",
       "    .dataframe tbody tr th:only-of-type {\n",
       "        vertical-align: middle;\n",
       "    }\n",
       "\n",
       "    .dataframe tbody tr th {\n",
       "        vertical-align: top;\n",
       "    }\n",
       "\n",
       "    .dataframe thead th {\n",
       "        text-align: right;\n",
       "    }\n",
       "</style>\n",
       "<table border=\"1\" class=\"dataframe\">\n",
       "  <thead>\n",
       "    <tr style=\"text-align: right;\">\n",
       "      <th></th>\n",
       "      <th>Pays</th>\n",
       "      <th>Année</th>\n",
       "      <th>Habitants en sous-nutrition</th>\n",
       "      <th>Population totale</th>\n",
       "      <th>Pourcentage sous-nutrition</th>\n",
       "    </tr>\n",
       "  </thead>\n",
       "  <tbody>\n",
       "    <tr>\n",
       "      <th>472</th>\n",
       "      <td>Haïti</td>\n",
       "      <td>2017</td>\n",
       "      <td>5300000.0</td>\n",
       "      <td>10982366</td>\n",
       "      <td>48.259182</td>\n",
       "    </tr>\n",
       "    <tr>\n",
       "      <th>946</th>\n",
       "      <td>République populaire démocratique de Corée</td>\n",
       "      <td>2017</td>\n",
       "      <td>12000000.0</td>\n",
       "      <td>25429825</td>\n",
       "      <td>47.188685</td>\n",
       "    </tr>\n",
       "    <tr>\n",
       "      <th>652</th>\n",
       "      <td>Madagascar</td>\n",
       "      <td>2017</td>\n",
       "      <td>10500000.0</td>\n",
       "      <td>25570512</td>\n",
       "      <td>41.062924</td>\n",
       "    </tr>\n",
       "    <tr>\n",
       "      <th>622</th>\n",
       "      <td>Libéria</td>\n",
       "      <td>2017</td>\n",
       "      <td>1800000.0</td>\n",
       "      <td>4702226</td>\n",
       "      <td>38.279742</td>\n",
       "    </tr>\n",
       "    <tr>\n",
       "      <th>604</th>\n",
       "      <td>Lesotho</td>\n",
       "      <td>2017</td>\n",
       "      <td>800000.0</td>\n",
       "      <td>2091534</td>\n",
       "      <td>38.249438</td>\n",
       "    </tr>\n",
       "    <tr>\n",
       "      <th>1102</th>\n",
       "      <td>Tchad</td>\n",
       "      <td>2017</td>\n",
       "      <td>5700000.0</td>\n",
       "      <td>15016753</td>\n",
       "      <td>37.957606</td>\n",
       "    </tr>\n",
       "    <tr>\n",
       "      <th>970</th>\n",
       "      <td>Rwanda</td>\n",
       "      <td>2017</td>\n",
       "      <td>4200000.0</td>\n",
       "      <td>11980961</td>\n",
       "      <td>35.055619</td>\n",
       "    </tr>\n",
       "    <tr>\n",
       "      <th>730</th>\n",
       "      <td>Mozambique</td>\n",
       "      <td>2017</td>\n",
       "      <td>9400000.0</td>\n",
       "      <td>28649018</td>\n",
       "      <td>32.810898</td>\n",
       "    </tr>\n",
       "    <tr>\n",
       "      <th>1120</th>\n",
       "      <td>Timor-Leste</td>\n",
       "      <td>2017</td>\n",
       "      <td>400000.0</td>\n",
       "      <td>1243258</td>\n",
       "      <td>32.173531</td>\n",
       "    </tr>\n",
       "    <tr>\n",
       "      <th>4</th>\n",
       "      <td>Afghanistan</td>\n",
       "      <td>2017</td>\n",
       "      <td>10500000.0</td>\n",
       "      <td>36296113</td>\n",
       "      <td>28.928718</td>\n",
       "    </tr>\n",
       "    <tr>\n",
       "      <th>268</th>\n",
       "      <td>Congo</td>\n",
       "      <td>2017</td>\n",
       "      <td>1400000.0</td>\n",
       "      <td>5110695</td>\n",
       "      <td>27.393535</td>\n",
       "    </tr>\n",
       "    <tr>\n",
       "      <th>1192</th>\n",
       "      <td>Venezuela (République bolivarienne du)</td>\n",
       "      <td>2017</td>\n",
       "      <td>8000000.0</td>\n",
       "      <td>29402484</td>\n",
       "      <td>27.208586</td>\n",
       "    </tr>\n",
       "    <tr>\n",
       "      <th>1030</th>\n",
       "      <td>Sierra Leone</td>\n",
       "      <td>2017</td>\n",
       "      <td>2000000.0</td>\n",
       "      <td>7488423</td>\n",
       "      <td>26.707893</td>\n",
       "    </tr>\n",
       "    <tr>\n",
       "      <th>952</th>\n",
       "      <td>République-Unie de Tanzanie</td>\n",
       "      <td>2017</td>\n",
       "      <td>13400000.0</td>\n",
       "      <td>54660339</td>\n",
       "      <td>24.515033</td>\n",
       "    </tr>\n",
       "    <tr>\n",
       "      <th>526</th>\n",
       "      <td>Iraq</td>\n",
       "      <td>2017</td>\n",
       "      <td>9000000.0</td>\n",
       "      <td>37552781</td>\n",
       "      <td>23.966268</td>\n",
       "    </tr>\n",
       "  </tbody>\n",
       "</table>\n",
       "</div>"
      ],
      "text/plain": [
       "                                            Pays  Année  \\\n",
       "472                                        Haïti   2017   \n",
       "946   République populaire démocratique de Corée   2017   \n",
       "652                                   Madagascar   2017   \n",
       "622                                      Libéria   2017   \n",
       "604                                      Lesotho   2017   \n",
       "1102                                       Tchad   2017   \n",
       "970                                       Rwanda   2017   \n",
       "730                                   Mozambique   2017   \n",
       "1120                                 Timor-Leste   2017   \n",
       "4                                    Afghanistan   2017   \n",
       "268                                        Congo   2017   \n",
       "1192      Venezuela (République bolivarienne du)   2017   \n",
       "1030                                Sierra Leone   2017   \n",
       "952                  République-Unie de Tanzanie   2017   \n",
       "526                                         Iraq   2017   \n",
       "\n",
       "      Habitants en sous-nutrition  Population totale  \\\n",
       "472                     5300000.0           10982366   \n",
       "946                    12000000.0           25429825   \n",
       "652                    10500000.0           25570512   \n",
       "622                     1800000.0            4702226   \n",
       "604                      800000.0            2091534   \n",
       "1102                    5700000.0           15016753   \n",
       "970                     4200000.0           11980961   \n",
       "730                     9400000.0           28649018   \n",
       "1120                     400000.0            1243258   \n",
       "4                      10500000.0           36296113   \n",
       "268                     1400000.0            5110695   \n",
       "1192                    8000000.0           29402484   \n",
       "1030                    2000000.0            7488423   \n",
       "952                    13400000.0           54660339   \n",
       "526                     9000000.0           37552781   \n",
       "\n",
       "      Pourcentage sous-nutrition  \n",
       "472                    48.259182  \n",
       "946                    47.188685  \n",
       "652                    41.062924  \n",
       "622                    38.279742  \n",
       "604                    38.249438  \n",
       "1102                   37.957606  \n",
       "970                    35.055619  \n",
       "730                    32.810898  \n",
       "1120                   32.173531  \n",
       "4                      28.928718  \n",
       "268                    27.393535  \n",
       "1192                   27.208586  \n",
       "1030                   26.707893  \n",
       "952                    24.515033  \n",
       "526                    23.966268  "
      ]
     },
     "execution_count": 38,
     "metadata": {},
     "output_type": "execute_result"
    }
   ],
   "source": [
    "final_df_undernut_pop_2017=final_df_undernut_pop[final_df_undernut_pop.Année==2017]\n",
    "df_pop1=df_pop[(df_pop[\"Année\"]==2017)][[\"Zone\",\"Valeur\"]].copy()\n",
    "print(\"Liste des 15 pays les plus sous alimentés en proportion de leur nombre d'habitants\")\n",
    "final_df_undernut_pop_2017.sort_values(by=\"Pourcentage sous-nutrition\", ascending=False).iloc[:15]"
   ]
  },
  {
   "cell_type": "markdown",
   "id": "2ca25554-3675-40fa-8793-ac2d65d228e9",
   "metadata": {},
   "source": [
    "### Conclusion\n",
    "7,1% de la population est en sous-nutrition  en 2017 (voir part1), ce qui représente 35,6% des pays.<br>\n",
    "54 pays se trouvent sous cette barre de sous-nutrition sur un total 236, soit 22,88%.<br>\n"
   ]
  },
  {
   "cell_type": "code",
   "execution_count": 39,
   "id": "ba7fa3cf-e5f2-4352-a3fb-e167546d2ab8",
   "metadata": {},
   "outputs": [
    {
     "name": "stdout",
     "output_type": "stream",
     "text": [
      "En 2017, il y a 54 pays sur les 84 figurant dans la liste des pays en sous-nutrition qui sont sous la barre de la moyenne mondiale (7,1%)\n"
     ]
    }
   ],
   "source": [
    "nb_counties_under_7percent=len(final_df_undernut_pop_2017[final_df_undernut_pop_2017[\"Pourcentage sous-nutrition\"]>7.1])\n",
    "total_countries_undernourished_2017=len(final_df_undernut_pop_2017)\n",
    "total_countries_2017=len(df_pop[df_pop[\"Année\"]==2017])\n",
    "percent_countries_undernourished_2017=(total_countries_undernourished_2017/total_countries_2017)*100\n",
    "percent_countries_really_undernourished_2017=(nb_counties_under_7percent/total_countries_2017)*100\n",
    "print(f\"En 2017, il y a {nb_counties_under_7percent} pays sur les {len(final_df_undernut_pop_2017)} figurant dans la liste des pays en sous-nutrition qui sont sous la barre de la moyenne mondiale (7,1%)\")"
   ]
  },
  {
   "cell_type": "code",
   "execution_count": 40,
   "id": "b6828ad6-9d7f-4e31-b609-a417bfe9dd25",
   "metadata": {},
   "outputs": [
    {
     "data": {
      "text/plain": [
       "54"
      ]
     },
     "execution_count": 40,
     "metadata": {},
     "output_type": "execute_result"
    }
   ],
   "source": [
    "nb_counties_under_7percent"
   ]
  },
  {
   "cell_type": "code",
   "execution_count": 41,
   "id": "8bcc892e-0c8e-42e2-9510-a077f464d41c",
   "metadata": {},
   "outputs": [
    {
     "data": {
      "text/plain": [
       "84"
      ]
     },
     "execution_count": 41,
     "metadata": {},
     "output_type": "execute_result"
    }
   ],
   "source": [
    "total_countries_undernourished_2017"
   ]
  },
  {
   "cell_type": "code",
   "execution_count": 42,
   "id": "93ab4e3f-5c8e-407e-b48d-cd3503ffa28c",
   "metadata": {},
   "outputs": [
    {
     "data": {
      "text/plain": [
       "236"
      ]
     },
     "execution_count": 42,
     "metadata": {},
     "output_type": "execute_result"
    }
   ],
   "source": [
    "total_countries_2017"
   ]
  },
  {
   "cell_type": "code",
   "execution_count": 43,
   "id": "6a911733-6937-4b24-b85a-120d35ed2c46",
   "metadata": {},
   "outputs": [
    {
     "data": {
      "text/plain": [
       "35.59"
      ]
     },
     "execution_count": 43,
     "metadata": {},
     "output_type": "execute_result"
    }
   ],
   "source": [
    "round(percent_countries_undernourished_2017,2)"
   ]
  },
  {
   "cell_type": "code",
   "execution_count": 44,
   "id": "5437feb1-1b99-46b5-83a7-db3818a53d65",
   "metadata": {},
   "outputs": [
    {
     "data": {
      "text/plain": [
       "22.88"
      ]
     },
     "execution_count": 44,
     "metadata": {},
     "output_type": "execute_result"
    }
   ],
   "source": [
    "round(percent_countries_really_undernourished_2017,2)"
   ]
  },
  {
   "cell_type": "markdown",
   "id": "1b34fc95-525d-4984-b827-41ff07a45116",
   "metadata": {
    "tags": []
   },
   "source": [
    "## Analyse de l'aide alimentaire entre 2013 et 2017"
   ]
  },
  {
   "cell_type": "markdown",
   "id": "a16bfae6-8828-4da6-9689-d75c2a311dd6",
   "metadata": {},
   "source": [
    "Agrégation des valeurs par Pays et tri par *Valeur*.<br>\n",
    "On garde les 10 pays les plus aidés."
   ]
  },
  {
   "cell_type": "code",
   "execution_count": 45,
   "id": "4812b62d-1815-4d20-be07-2acd8a287eb4",
   "metadata": {},
   "outputs": [
    {
     "data": {
      "text/html": [
       "<div>\n",
       "<style scoped>\n",
       "    .dataframe tbody tr th:only-of-type {\n",
       "        vertical-align: middle;\n",
       "    }\n",
       "\n",
       "    .dataframe tbody tr th {\n",
       "        vertical-align: top;\n",
       "    }\n",
       "\n",
       "    .dataframe thead th {\n",
       "        text-align: right;\n",
       "    }\n",
       "</style>\n",
       "<table border=\"1\" class=\"dataframe\">\n",
       "  <thead>\n",
       "    <tr style=\"text-align: right;\">\n",
       "      <th></th>\n",
       "      <th>Pays bénéficiaire</th>\n",
       "      <th>Valeur</th>\n",
       "    </tr>\n",
       "  </thead>\n",
       "  <tbody>\n",
       "    <tr>\n",
       "      <th>50</th>\n",
       "      <td>République arabe syrienne</td>\n",
       "      <td>1858943000</td>\n",
       "    </tr>\n",
       "    <tr>\n",
       "      <th>75</th>\n",
       "      <td>Éthiopie</td>\n",
       "      <td>1381294000</td>\n",
       "    </tr>\n",
       "    <tr>\n",
       "      <th>70</th>\n",
       "      <td>Yémen</td>\n",
       "      <td>1206484000</td>\n",
       "    </tr>\n",
       "    <tr>\n",
       "      <th>61</th>\n",
       "      <td>Soudan du Sud</td>\n",
       "      <td>695248000</td>\n",
       "    </tr>\n",
       "    <tr>\n",
       "      <th>60</th>\n",
       "      <td>Soudan</td>\n",
       "      <td>669784000</td>\n",
       "    </tr>\n",
       "    <tr>\n",
       "      <th>30</th>\n",
       "      <td>Kenya</td>\n",
       "      <td>552836000</td>\n",
       "    </tr>\n",
       "    <tr>\n",
       "      <th>3</th>\n",
       "      <td>Bangladesh</td>\n",
       "      <td>348188000</td>\n",
       "    </tr>\n",
       "    <tr>\n",
       "      <th>59</th>\n",
       "      <td>Somalie</td>\n",
       "      <td>292678000</td>\n",
       "    </tr>\n",
       "    <tr>\n",
       "      <th>53</th>\n",
       "      <td>République démocratique du Congo</td>\n",
       "      <td>288502000</td>\n",
       "    </tr>\n",
       "    <tr>\n",
       "      <th>43</th>\n",
       "      <td>Niger</td>\n",
       "      <td>276344000</td>\n",
       "    </tr>\n",
       "  </tbody>\n",
       "</table>\n",
       "</div>"
      ],
      "text/plain": [
       "                   Pays bénéficiaire      Valeur\n",
       "50         République arabe syrienne  1858943000\n",
       "75                          Éthiopie  1381294000\n",
       "70                             Yémen  1206484000\n",
       "61                     Soudan du Sud   695248000\n",
       "60                            Soudan   669784000\n",
       "30                             Kenya   552836000\n",
       "3                         Bangladesh   348188000\n",
       "59                           Somalie   292678000\n",
       "53  République démocratique du Congo   288502000\n",
       "43                             Niger   276344000"
      ]
     },
     "execution_count": 45,
     "metadata": {},
     "output_type": "execute_result"
    }
   ],
   "source": [
    "df_total_food_aid_per_country = df_foodaid.groupby([\"Pays bénéficiaire\"], as_index=False)[\"Valeur\"].sum()\n",
    "df_total_food_aid_per_country_top10=df_total_food_aid_per_country.sort_values(\"Valeur\", ascending=False).head(10)\n",
    "df_total_food_aid_per_country_top10"
   ]
  },
  {
   "cell_type": "markdown",
   "id": "f8b7d771-1bdf-4079-8007-2520f40d16bc",
   "metadata": {},
   "source": [
    "Je convertis mon tableau en tableau croisé dynamique avec pd.crosstab, pour faire un schéma"
   ]
  },
  {
   "cell_type": "code",
   "execution_count": 46,
   "id": "6e6c0628-f24b-4d14-ac4d-f956c3bd3648",
   "metadata": {},
   "outputs": [
    {
     "data": {
      "text/plain": [
       "<Figure size 11200x4800 with 0 Axes>"
      ]
     },
     "metadata": {},
     "output_type": "display_data"
    },
    {
     "data": {
      "image/png": "[encoded data removed]",
      "text/plain": [
       "<Figure size 432x288 with 1 Axes>"
      ]
     },
     "metadata": {},
     "output_type": "display_data"
    }
   ],
   "source": [
    "pivot_table_food_aid=pd.crosstab(index=df_total_food_aid_per_country_top10[\"Pays bénéficiaire\"],columns=df_total_food_aid_per_country_top10[\"Pays bénéficiaire\"],values=df_total_food_aid_per_country_top10.Valeur, aggfunc=sum, margins=False)\n",
    "fig(figsize=(140, 60), dpi=80)\n",
    "plt.style.use('seaborn-whitegrid')\n",
    "a=pivot_table_food_aid.plot.bar(stacked=False)\n",
    "axes = plt.gca()\n",
    "axes.yaxis.set_tick_params(width = 50)\n",
    "leg = plt.legend()\n",
    "a.get_legend().remove()\n"
   ]
  },
  {
   "cell_type": "markdown",
   "id": "80459199-f4f8-42e9-b9d5-294d908d1c92",
   "metadata": {},
   "source": [
    "### Conclusion\n",
    "La République arabe syrienne fait par du top 10 des pays ayant bénéficié le plus d'aide alimentaire sur les 4 années analysées.<br>\n",
    "Mais elle ne figure pas, à l'instar d'autres pays de ce top, dans les données de sous-nutrition. <br>\n",
    "Pour donner plus de sens aux données, il convient de les confronter avec celles des pays en sous-nutrition."
   ]
  },
  {
   "cell_type": "markdown",
   "id": "634c0807-d018-4f38-9e20-0d59dcd5494d",
   "metadata": {
    "tags": []
   },
   "source": [
    "## Relation entre aide alimentaire et sous-nutrition\n",
    "\n",
    "Etapes réalisées :\n",
    "1. Calcul de la moyenne pour chaque pays du fichier sous-nutrition\n",
    "2. Calcul de la moyenne de population pour chaque pays du fichier population\n",
    "3. Merge des données\n",
    "4. Calcul du ratio de pers. en sous-nutrition (valeur sous-nutrition / population)\n",
    "5. Création du top 10\n",
    "6. Comparaison avec le top 10 de l'aide alimentaire\n"
   ]
  },
  {
   "cell_type": "markdown",
   "id": "0456d62a-37b8-4868-9725-9e0d1a6cc2b8",
   "metadata": {},
   "source": [
    "Je calcule la moyenne de sous-nutrition sur les 6 années disponibles.<br>\n",
    "Je me débarasse des valeurs vides et nulles."
   ]
  },
  {
   "cell_type": "code",
   "execution_count": 47,
   "id": "70d84452-be11-45fe-9bfd-7964b1d38d1b",
   "metadata": {},
   "outputs": [
    {
     "data": {
      "text/plain": [
       "(87, 2)"
      ]
     },
     "execution_count": 47,
     "metadata": {},
     "output_type": "execute_result"
    }
   ],
   "source": [
    "undernut_mean_per_coutry_df=df_undernut.groupby([\"Zone\"], as_index=False)[\"Valeur\"].mean()\n",
    "undernut_mean_per_coutry_df.dropna(how=\"any\", inplace=True)\n",
    "undernut_mean_per_coutry_df.drop(undernut_mean_per_coutry_df[undernut_mean_per_coutry_df.Valeur==0].index, inplace=True)\n",
    "undernut_mean_per_coutry_df_top10=undernut_mean_per_coutry_df.sort_values(\"Valeur\", ascending=False)\n",
    "undernut_mean_per_coutry_df_top10.shape"
   ]
  },
  {
   "cell_type": "markdown",
   "id": "0efbf57c-2391-49dc-8262-4a41b8259127",
   "metadata": {},
   "source": [
    "Calcul de la moyenne de la population pour chaque pays."
   ]
  },
  {
   "cell_type": "code",
   "execution_count": 48,
   "id": "812eb8ae-bd93-4861-9031-ce8ebc8d1026",
   "metadata": {},
   "outputs": [
    {
     "data": {
      "text/html": [
       "<div>\n",
       "<style scoped>\n",
       "    .dataframe tbody tr th:only-of-type {\n",
       "        vertical-align: middle;\n",
       "    }\n",
       "\n",
       "    .dataframe tbody tr th {\n",
       "        vertical-align: top;\n",
       "    }\n",
       "\n",
       "    .dataframe thead th {\n",
       "        text-align: right;\n",
       "    }\n",
       "</style>\n",
       "<table border=\"1\" class=\"dataframe\">\n",
       "  <thead>\n",
       "    <tr style=\"text-align: right;\">\n",
       "      <th></th>\n",
       "      <th>Zone</th>\n",
       "      <th>Valeur</th>\n",
       "    </tr>\n",
       "  </thead>\n",
       "  <tbody>\n",
       "    <tr>\n",
       "      <th>0</th>\n",
       "      <td>Afghanistan</td>\n",
       "      <td>3.481751e+07</td>\n",
       "    </tr>\n",
       "    <tr>\n",
       "      <th>1</th>\n",
       "      <td>Afrique du Sud</td>\n",
       "      <td>5.577127e+07</td>\n",
       "    </tr>\n",
       "    <tr>\n",
       "      <th>2</th>\n",
       "      <td>Albanie</td>\n",
       "      <td>2.890659e+06</td>\n",
       "    </tr>\n",
       "    <tr>\n",
       "      <th>3</th>\n",
       "      <td>Algérie</td>\n",
       "      <td>4.016014e+07</td>\n",
       "    </tr>\n",
       "    <tr>\n",
       "      <th>4</th>\n",
       "      <td>Allemagne</td>\n",
       "      <td>8.206479e+07</td>\n",
       "    </tr>\n",
       "  </tbody>\n",
       "</table>\n",
       "</div>"
      ],
      "text/plain": [
       "             Zone        Valeur\n",
       "0     Afghanistan  3.481751e+07\n",
       "1  Afrique du Sud  5.577127e+07\n",
       "2         Albanie  2.890659e+06\n",
       "3         Algérie  4.016014e+07\n",
       "4       Allemagne  8.206479e+07"
      ]
     },
     "execution_count": 48,
     "metadata": {},
     "output_type": "execute_result"
    }
   ],
   "source": [
    "pop_mean_per_country_df=df_pop.groupby([\"Zone\"], as_index=False)[\"Valeur\"].mean()\n",
    "pop_mean_per_country_df.head()"
   ]
  },
  {
   "cell_type": "markdown",
   "id": "88cbf93c-5907-42b1-8846-4c4fe8656587",
   "metadata": {},
   "source": [
    "Merge des données"
   ]
  },
  {
   "cell_type": "code",
   "execution_count": 49,
   "id": "764eae4a-a4f4-4339-a53f-c398baafc467",
   "metadata": {},
   "outputs": [
    {
     "data": {
      "text/html": [
       "<div>\n",
       "<style scoped>\n",
       "    .dataframe tbody tr th:only-of-type {\n",
       "        vertical-align: middle;\n",
       "    }\n",
       "\n",
       "    .dataframe tbody tr th {\n",
       "        vertical-align: top;\n",
       "    }\n",
       "\n",
       "    .dataframe thead th {\n",
       "        text-align: right;\n",
       "    }\n",
       "</style>\n",
       "<table border=\"1\" class=\"dataframe\">\n",
       "  <thead>\n",
       "    <tr style=\"text-align: right;\">\n",
       "      <th></th>\n",
       "      <th>Zone</th>\n",
       "      <th>Valeur_x</th>\n",
       "      <th>Valeur_y</th>\n",
       "    </tr>\n",
       "  </thead>\n",
       "  <tbody>\n",
       "    <tr>\n",
       "      <th>0</th>\n",
       "      <td>Inde</td>\n",
       "      <td>1.942333e+08</td>\n",
       "      <td>1.317072e+09</td>\n",
       "    </tr>\n",
       "    <tr>\n",
       "      <th>1</th>\n",
       "      <td>Pakistan</td>\n",
       "      <td>2.675000e+07</td>\n",
       "      <td>2.016264e+08</td>\n",
       "    </tr>\n",
       "    <tr>\n",
       "      <th>2</th>\n",
       "      <td>Indonésie</td>\n",
       "      <td>2.361667e+07</td>\n",
       "      <td>2.598658e+08</td>\n",
       "    </tr>\n",
       "    <tr>\n",
       "      <th>3</th>\n",
       "      <td>Éthiopie</td>\n",
       "      <td>2.268333e+07</td>\n",
       "      <td>1.022572e+08</td>\n",
       "    </tr>\n",
       "    <tr>\n",
       "      <th>4</th>\n",
       "      <td>Bangladesh</td>\n",
       "      <td>2.201667e+07</td>\n",
       "      <td>1.570957e+08</td>\n",
       "    </tr>\n",
       "  </tbody>\n",
       "</table>\n",
       "</div>"
      ],
      "text/plain": [
       "         Zone      Valeur_x      Valeur_y\n",
       "0        Inde  1.942333e+08  1.317072e+09\n",
       "1    Pakistan  2.675000e+07  2.016264e+08\n",
       "2   Indonésie  2.361667e+07  2.598658e+08\n",
       "3    Éthiopie  2.268333e+07  1.022572e+08\n",
       "4  Bangladesh  2.201667e+07  1.570957e+08"
      ]
     },
     "execution_count": 49,
     "metadata": {},
     "output_type": "execute_result"
    }
   ],
   "source": [
    "df_total_food_aid_per_population = undernut_mean_per_coutry_df_top10.merge(pop_mean_per_country_df,right_on=\"Zone\", left_on=\"Zone\")\n",
    "df_total_food_aid_per_population.head()"
   ]
  },
  {
   "cell_type": "markdown",
   "id": "7198f4f6-44f3-45d5-99e6-cf5867743dfe",
   "metadata": {},
   "source": [
    "Renommage des colonnes à la suite du merge.<br>\n",
    "Création de la colonne pour calcul du pourcentage d'habitants en sous-nutrition.<br>\n",
    "Classement sur le pourcentage et sélection du top 10 des pays les plus sous-alimentés."
   ]
  },
  {
   "cell_type": "code",
   "execution_count": 50,
   "id": "4cdcc5bd-9419-4e3f-9a31-f9002e5c5e1c",
   "metadata": {},
   "outputs": [
    {
     "data": {
      "text/html": [
       "<div>\n",
       "<style scoped>\n",
       "    .dataframe tbody tr th:only-of-type {\n",
       "        vertical-align: middle;\n",
       "    }\n",
       "\n",
       "    .dataframe tbody tr th {\n",
       "        vertical-align: top;\n",
       "    }\n",
       "\n",
       "    .dataframe thead th {\n",
       "        text-align: right;\n",
       "    }\n",
       "</style>\n",
       "<table border=\"1\" class=\"dataframe\">\n",
       "  <thead>\n",
       "    <tr style=\"text-align: right;\">\n",
       "      <th></th>\n",
       "      <th>Zone</th>\n",
       "      <th>Habitants en sous-nutrition</th>\n",
       "      <th>Population</th>\n",
       "      <th>Pourcentage sous-nutrition</th>\n",
       "    </tr>\n",
       "  </thead>\n",
       "  <tbody>\n",
       "    <tr>\n",
       "      <th>21</th>\n",
       "      <td>Haïti</td>\n",
       "      <td>5.200000e+06</td>\n",
       "      <td>1.076512e+07</td>\n",
       "      <td>48.304138</td>\n",
       "    </tr>\n",
       "    <tr>\n",
       "      <th>8</th>\n",
       "      <td>République populaire démocratique de Corée</td>\n",
       "      <td>1.135000e+07</td>\n",
       "      <td>2.524304e+07</td>\n",
       "      <td>44.962896</td>\n",
       "    </tr>\n",
       "    <tr>\n",
       "      <th>10</th>\n",
       "      <td>Madagascar</td>\n",
       "      <td>9.633333e+06</td>\n",
       "      <td>2.458540e+07</td>\n",
       "      <td>39.183140</td>\n",
       "    </tr>\n",
       "    <tr>\n",
       "      <th>39</th>\n",
       "      <td>Libéria</td>\n",
       "      <td>1.700000e+06</td>\n",
       "      <td>4.531342e+06</td>\n",
       "      <td>37.516476</td>\n",
       "    </tr>\n",
       "    <tr>\n",
       "      <th>19</th>\n",
       "      <td>Tchad</td>\n",
       "      <td>5.333333e+06</td>\n",
       "      <td>1.434185e+07</td>\n",
       "      <td>37.187199</td>\n",
       "    </tr>\n",
       "    <tr>\n",
       "      <th>69</th>\n",
       "      <td>Timor-Leste</td>\n",
       "      <td>4.000000e+05</td>\n",
       "      <td>1.209074e+06</td>\n",
       "      <td>33.083156</td>\n",
       "    </tr>\n",
       "    <tr>\n",
       "      <th>26</th>\n",
       "      <td>Rwanda</td>\n",
       "      <td>3.783333e+06</td>\n",
       "      <td>1.153600e+07</td>\n",
       "      <td>32.795887</td>\n",
       "    </tr>\n",
       "    <tr>\n",
       "      <th>60</th>\n",
       "      <td>Lesotho</td>\n",
       "      <td>6.500000e+05</td>\n",
       "      <td>2.067648e+06</td>\n",
       "      <td>31.436686</td>\n",
       "    </tr>\n",
       "    <tr>\n",
       "      <th>13</th>\n",
       "      <td>Mozambique</td>\n",
       "      <td>8.250000e+06</td>\n",
       "      <td>2.747732e+07</td>\n",
       "      <td>30.024764</td>\n",
       "    </tr>\n",
       "    <tr>\n",
       "      <th>33</th>\n",
       "      <td>Sierra Leone</td>\n",
       "      <td>2.050000e+06</td>\n",
       "      <td>7.253408e+06</td>\n",
       "      <td>28.262575</td>\n",
       "    </tr>\n",
       "  </tbody>\n",
       "</table>\n",
       "</div>"
      ],
      "text/plain": [
       "                                          Zone  Habitants en sous-nutrition  \\\n",
       "21                                       Haïti                 5.200000e+06   \n",
       "8   République populaire démocratique de Corée                 1.135000e+07   \n",
       "10                                  Madagascar                 9.633333e+06   \n",
       "39                                     Libéria                 1.700000e+06   \n",
       "19                                       Tchad                 5.333333e+06   \n",
       "69                                 Timor-Leste                 4.000000e+05   \n",
       "26                                      Rwanda                 3.783333e+06   \n",
       "60                                     Lesotho                 6.500000e+05   \n",
       "13                                  Mozambique                 8.250000e+06   \n",
       "33                                Sierra Leone                 2.050000e+06   \n",
       "\n",
       "      Population  Pourcentage sous-nutrition  \n",
       "21  1.076512e+07                   48.304138  \n",
       "8   2.524304e+07                   44.962896  \n",
       "10  2.458540e+07                   39.183140  \n",
       "39  4.531342e+06                   37.516476  \n",
       "19  1.434185e+07                   37.187199  \n",
       "69  1.209074e+06                   33.083156  \n",
       "26  1.153600e+07                   32.795887  \n",
       "60  2.067648e+06                   31.436686  \n",
       "13  2.747732e+07                   30.024764  \n",
       "33  7.253408e+06                   28.262575  "
      ]
     },
     "execution_count": 50,
     "metadata": {},
     "output_type": "execute_result"
    }
   ],
   "source": [
    "df_total_food_aid_per_population.rename(columns={\"Valeur_x\" : \"Habitants en sous-nutrition\",\"Valeur_y\":\"Population\"}, inplace=True)\n",
    "df_total_food_aid_per_population[\"Pourcentage sous-nutrition\"] = (df_total_food_aid_per_population[\"Habitants en sous-nutrition\"]/df_total_food_aid_per_population[\"Population\"])*100\n",
    "df_total_food_aid_per_population_top10=df_total_food_aid_per_population.sort_values(\"Pourcentage sous-nutrition\", ascending=False).head(10)\n",
    "df_total_food_aid_per_population_top10"
   ]
  },
  {
   "cell_type": "markdown",
   "id": "f55347f7-baf6-4303-b4c0-b99dcc8145f4",
   "metadata": {},
   "source": [
    "Préparation de la comparaison en créant une liste du top 10 des pays les plus aidés et du dataframe associé"
   ]
  },
  {
   "cell_type": "code",
   "execution_count": 51,
   "id": "2a2761a4-7dbb-4b62-a857-67145a4cfff0",
   "metadata": {},
   "outputs": [],
   "source": [
    "list_foodaid_per_country=df_total_food_aid_per_country_top10[\"Pays bénéficiaire\"].unique()\n",
    "foodaid_per_country_df=pd.DataFrame(list_foodaid_per_country,columns=[\"Pays bénéficiaire\"])"
   ]
  },
  {
   "cell_type": "markdown",
   "id": "1dcdaef5-a09d-490b-812f-ee1f51aaba51",
   "metadata": {},
   "source": [
    "Appel de la fonction de comparaison<br>\n",
    "Comparaison entre le top 10 des données de sous-nutrition et d'aide_alimentaire"
   ]
  },
  {
   "cell_type": "code",
   "execution_count": 53,
   "id": "2cc6c3b4-14e9-4cff-ae51-454d8a95c901",
   "metadata": {},
   "outputs": [
    {
     "name": "stdout",
     "output_type": "stream",
     "text": [
      "Aucun pays en sous-nutrition n'apparaît dans la liste des pays les plus aidés.\n"
     ]
    }
   ],
   "source": [
    "delta_aid_undernut=cf.compare_content_dataframe(df_total_food_aid_per_population_top10[[\"Zone\"]],list_foodaid_per_country)\n",
    "if len(delta_aid_undernut[delta_aid_undernut[\"Present dans la liste\"]==\"Oui\"])>0:\n",
    "    print(f'Seul {(delta_aid_undernut[delta_aid_undernut[\"Present dans la liste\"]==\"Oui\"])} apparaît dans la liste des pays les plus aidés')\n",
    "elif len(delta_aid_undernut[delta_aid_undernut[\"Present dans la liste\"]==\"Oui\"])==0:\n",
    "    print(f'Aucun pays en sous-nutrition n\\'apparaît dans la liste des pays les plus aidés.')\n",
    "else:\n",
    "    print(f'''Les pays en sous-nutrition appartenant à la liste suivante font partie des pays les plus aidés:\n",
    "    {(delta_aid_undernut[delta_aid_undernut[\"Present dans la liste\"]==\"Oui\"].values[:,0])}\n",
    "    ''')"
   ]
  },
  {
   "cell_type": "markdown",
   "id": "255f2eb9-3bda-4459-a75c-ddee8c77110e",
   "metadata": {
    "jp-MarkdownHeadingCollapsed": true,
    "tags": []
   },
   "source": [
    "### Observations\n",
    "A première vue, il n'y a pas de corrélation entre le volume d'aide apporté aux pays et les pays ayant la plus grande proportion d'habitants en sous-nutrition.<br>\n",
    "En effet aucun pays des 10 pays ayant le plus fort ratio de population sous-alimentée n'est dans le top 10 des pays bénéficiant le plus d'aide.<br>\n",
    "\n",
    "A noter que La république arabe syrienne, qui bénéficie du plus d'aide, ne possède pas de données sur son état de sous-nutrition.<br>\n",
    "Nous ne pouvons donc pas vraiment mettre en parallèle le besoin et l'aide.<br>\n",
    "C'est ce que nous allons faire maintenant."
   ]
  },
  {
   "cell_type": "markdown",
   "id": "0878c22c-cf53-4323-9ac8-3db9bc9b140e",
   "metadata": {},
   "source": [
    "### Analyse sur les pays en sous-nutrition uniquement"
   ]
  },
  {
   "cell_type": "markdown",
   "id": "74fa10b2-874b-4a8f-9574-342ec708cc73",
   "metadata": {},
   "source": [
    "Je récupère la liste des pays étant été écartés car ayant des valeurs non exploitables (0 et Nan) dans le fichier sous-nutrition"
   ]
  },
  {
   "cell_type": "code",
   "execution_count": 54,
   "id": "4ebda2c1-7bb8-4cd2-b8cc-287af03c17cd",
   "metadata": {
    "tags": []
   },
   "outputs": [],
   "source": [
    "list_null_df_undernut=null_df_undernut_pop[\"Pays\"].unique()"
   ]
  },
  {
   "cell_type": "markdown",
   "id": "983a9332-d059-4501-ace5-ae4df4340bee",
   "metadata": {},
   "source": [
    "Je copie df_aid_food_per_year qui contient toutes les données sur l'aide alimentaire.<br>\n",
    "Le but de la boucle étant de supprimer de cette liste toutes les lignes dont le pays est dans le fichier des données supprimées de sous-nutrition (list_null_df_undernut) :<br>\n",
    "- On compare chaque pays du dataframe df_aid_food_per_year à la liste des données supprimées.<br>\n",
    "    - Si on trouve une correspondance, on supprime la ligne.\n"
   ]
  },
  {
   "cell_type": "code",
   "execution_count": 55,
   "id": "911aa0ba-2168-4a10-97b9-53e90fc86273",
   "metadata": {
    "tags": []
   },
   "outputs": [
    {
     "data": {
      "text/html": [
       "<div>\n",
       "<style scoped>\n",
       "    .dataframe tbody tr th:only-of-type {\n",
       "        vertical-align: middle;\n",
       "    }\n",
       "\n",
       "    .dataframe tbody tr th {\n",
       "        vertical-align: top;\n",
       "    }\n",
       "\n",
       "    .dataframe thead th {\n",
       "        text-align: right;\n",
       "    }\n",
       "</style>\n",
       "<table border=\"1\" class=\"dataframe\">\n",
       "  <thead>\n",
       "    <tr style=\"text-align: right;\">\n",
       "      <th></th>\n",
       "      <th>Pays bénéficiaire</th>\n",
       "      <th>Valeur</th>\n",
       "    </tr>\n",
       "  </thead>\n",
       "  <tbody>\n",
       "    <tr>\n",
       "      <th>75</th>\n",
       "      <td>Éthiopie</td>\n",
       "      <td>1381294000</td>\n",
       "    </tr>\n",
       "    <tr>\n",
       "      <th>60</th>\n",
       "      <td>Soudan</td>\n",
       "      <td>669784000</td>\n",
       "    </tr>\n",
       "    <tr>\n",
       "      <th>30</th>\n",
       "      <td>Kenya</td>\n",
       "      <td>552836000</td>\n",
       "    </tr>\n",
       "    <tr>\n",
       "      <th>3</th>\n",
       "      <td>Bangladesh</td>\n",
       "      <td>348188000</td>\n",
       "    </tr>\n",
       "    <tr>\n",
       "      <th>66</th>\n",
       "      <td>Tchad</td>\n",
       "      <td>267966000</td>\n",
       "    </tr>\n",
       "    <tr>\n",
       "      <th>46</th>\n",
       "      <td>Pakistan</td>\n",
       "      <td>231072000</td>\n",
       "    </tr>\n",
       "    <tr>\n",
       "      <th>55</th>\n",
       "      <td>République populaire démocratique de Corée</td>\n",
       "      <td>187412000</td>\n",
       "    </tr>\n",
       "    <tr>\n",
       "      <th>0</th>\n",
       "      <td>Afghanistan</td>\n",
       "      <td>185452000</td>\n",
       "    </tr>\n",
       "    <tr>\n",
       "      <th>56</th>\n",
       "      <td>République-Unie de Tanzanie</td>\n",
       "      <td>172022000</td>\n",
       "    </tr>\n",
       "    <tr>\n",
       "      <th>48</th>\n",
       "      <td>Philippines</td>\n",
       "      <td>171722000</td>\n",
       "    </tr>\n",
       "  </tbody>\n",
       "</table>\n",
       "</div>"
      ],
      "text/plain": [
       "                             Pays bénéficiaire      Valeur\n",
       "75                                    Éthiopie  1381294000\n",
       "60                                      Soudan   669784000\n",
       "30                                       Kenya   552836000\n",
       "3                                   Bangladesh   348188000\n",
       "66                                       Tchad   267966000\n",
       "46                                    Pakistan   231072000\n",
       "55  République populaire démocratique de Corée   187412000\n",
       "0                                  Afghanistan   185452000\n",
       "56                 République-Unie de Tanzanie   172022000\n",
       "48                                 Philippines   171722000"
      ]
     },
     "execution_count": 55,
     "metadata": {},
     "output_type": "execute_result"
    }
   ],
   "source": [
    "df_aid_food_per_country_with_undernut_values=df_total_food_aid_per_country.copy()\n",
    "for i in range(len(df_total_food_aid_per_country)):\n",
    "        for element in df_total_food_aid_per_country.values[i]:\n",
    "            if element in list_null_df_undernut:\n",
    "                index_to_del=df_aid_food_per_country_with_undernut_values[df_aid_food_per_country_with_undernut_values[\"Pays bénéficiaire\"]==element].index\n",
    "                df_aid_food_per_country_with_undernut_values.drop(index_to_del,axis=0, inplace=True)\n",
    "df_aid_food_per_country_with_undernut_values_top10=df_aid_food_per_country_with_undernut_values.sort_values(\"Valeur\", ascending=False).head(10)\n",
    "df_aid_food_per_country_with_undernut_values_top10"
   ]
  },
  {
   "cell_type": "markdown",
   "id": "33ac5ebc-60fb-4d34-9727-41836ec7f46d",
   "metadata": {},
   "source": [
    "Appel de la fonction de comparaison"
   ]
  },
  {
   "cell_type": "code",
   "execution_count": 57,
   "id": "962aa546-272a-4cb5-b540-70e797f32e1d",
   "metadata": {},
   "outputs": [
    {
     "name": "stdout",
     "output_type": "stream",
     "text": [
      "Les pays en sous-nutrition appartenant à la liste suivante font partie des 10 pays les plus aidés:\n",
      "    République populaire démocratique de Corée,Tchad\n"
     ]
    }
   ],
   "source": [
    "delta_aid_undernut_without_null=cf.compare_content_dataframe(df_total_food_aid_per_population_top10[[\"Zone\"]],df_aid_food_per_country_with_undernut_values_top10[\"Pays bénéficiaire\"].to_list())\n",
    "len_df=len(delta_aid_undernut_without_null[delta_aid_undernut_without_null[\"Present dans la liste\"]==\"Oui\"])\n",
    "if len_df==1:\n",
    "    print(f'Seul {(delta_aid_undernut_without_null[delta_aid_undernut_without_null[\"Present dans la liste\"]==\"Oui\"])[\"Zone\"].values[0]} apparaît dans la liste des 10 pays les plus aidés')\n",
    "elif len_df==0:\n",
    "    print(f'Aucun pays en sous-nutrition n\\'apparaît dans la liste des pays les plus aidés.')\n",
    "else:\n",
    "    print(f'''Les pays en sous-nutrition appartenant à la liste suivante font partie des 10 pays les plus aidés:\n",
    "    {','.join(list(delta_aid_undernut_without_null[delta_aid_undernut_without_null[\"Present dans la liste\"]==\"Oui\"][\"Zone\"]))}''')"
   ]
  },
  {
   "cell_type": "markdown",
   "id": "a5a6cff9-32df-4f55-aff2-3a8e203eb76e",
   "metadata": {},
   "source": [
    "### Conclusion\n",
    "En retirant du top 10 les données des pays ne possédant pas d'informations sur leur état de sous-nutrition, l'observation réalisée se confirme. Seuls 2 pays figurant parmi les plus en difficulté bénéficient le plus d'aide."
   ]
  },
  {
   "cell_type": "markdown",
   "id": "93094ea2-1931-439a-ba45-202a0c3284c5",
   "metadata": {},
   "source": [
    "##  Analyse des pays ayant le plus/le moins de disponibilité/habitant en 2017\n",
    "\n",
    "Remarques:<br>\n",
    "Comme nous n'avons les données de disponibilité que sur l'année 2017, nous travaillerons uniquement sur cette année.<br>\n",
    "Nous ne pourrons pas mettre en parallèle la disponibilité et l'aide car nous n'avons pas l'information sur l'aide alimentaire en 2017.<br>\n",
    "\n",
    "Etapes réalisées : \n",
    "1. Aggrégation de la disponibilité en kcal par Pays sur le tableau dispo_alimantaire\n",
    "2. Merge de l'aggrégation avec le tableau de population pour récupéréer pouvoir pondérer les données\n",
    "3. Calculs des différentes informations nécessaires à l'analyse\n",
    "\n",
    "Rappel : <br>\n",
    "Le besoin moyen en kcal a été calculé dans la partie 1. On l'a déclaré en tant que variable en début de programme."
   ]
  },
  {
   "cell_type": "markdown",
   "id": "3628de84-6b1b-4a41-976d-54e52a198b04",
   "metadata": {},
   "source": [
    "Vu dans la partie 1, il faut corriger 2 noms de pays pour pouvoir les rapprocher"
   ]
  },
  {
   "cell_type": "code",
   "execution_count": 58,
   "id": "584a40cb-0aca-4fcd-b46b-f4a8a3d2428b",
   "metadata": {},
   "outputs": [],
   "source": [
    "df_avail=df_avail.replace(\"Tchéquie (la)\", \"Tchéquie\")\n",
    "df_pop=df_pop.replace(\"Royaume-Uni de Grande-Bretagne et d'Irlande du Nord\",\"Royaume-Uni\")"
   ]
  },
  {
   "cell_type": "code",
   "execution_count": 59,
   "id": "4e899ece-7e42-471f-a1b9-9339cad01565",
   "metadata": {
    "tags": []
   },
   "outputs": [
    {
     "data": {
      "text/html": [
       "<div>\n",
       "<style scoped>\n",
       "    .dataframe tbody tr th:only-of-type {\n",
       "        vertical-align: middle;\n",
       "    }\n",
       "\n",
       "    .dataframe tbody tr th {\n",
       "        vertical-align: top;\n",
       "    }\n",
       "\n",
       "    .dataframe thead th {\n",
       "        text-align: right;\n",
       "    }\n",
       "</style>\n",
       "<table border=\"1\" class=\"dataframe\">\n",
       "  <thead>\n",
       "    <tr style=\"text-align: right;\">\n",
       "      <th></th>\n",
       "      <th>Zone</th>\n",
       "      <th>Disponibilité alimentaire (Kcal/personne/jour)</th>\n",
       "    </tr>\n",
       "  </thead>\n",
       "  <tbody>\n",
       "    <tr>\n",
       "      <th>0</th>\n",
       "      <td>Afghanistan</td>\n",
       "      <td>2087.0</td>\n",
       "    </tr>\n",
       "    <tr>\n",
       "      <th>1</th>\n",
       "      <td>Afrique du Sud</td>\n",
       "      <td>3020.0</td>\n",
       "    </tr>\n",
       "    <tr>\n",
       "      <th>2</th>\n",
       "      <td>Albanie</td>\n",
       "      <td>3188.0</td>\n",
       "    </tr>\n",
       "    <tr>\n",
       "      <th>3</th>\n",
       "      <td>Algérie</td>\n",
       "      <td>3293.0</td>\n",
       "    </tr>\n",
       "    <tr>\n",
       "      <th>4</th>\n",
       "      <td>Allemagne</td>\n",
       "      <td>3503.0</td>\n",
       "    </tr>\n",
       "  </tbody>\n",
       "</table>\n",
       "</div>"
      ],
      "text/plain": [
       "             Zone  Disponibilité alimentaire (Kcal/personne/jour)\n",
       "0     Afghanistan                                          2087.0\n",
       "1  Afrique du Sud                                          3020.0\n",
       "2         Albanie                                          3188.0\n",
       "3         Algérie                                          3293.0\n",
       "4       Allemagne                                          3503.0"
      ]
     },
     "execution_count": 59,
     "metadata": {},
     "output_type": "execute_result"
    }
   ],
   "source": [
    "df_avail_per_country=df_avail.groupby([\"Zone\"], as_index=False)[\"Disponibilité alimentaire (Kcal/personne/jour)\"].sum()\n",
    "df_avail_per_country.head()"
   ]
  },
  {
   "cell_type": "markdown",
   "id": "31b267fc-3101-4bab-95c4-fbcb3cba6367",
   "metadata": {},
   "source": [
    "Merge avec le fichier population pour pouvoir calculer les informations par habitant"
   ]
  },
  {
   "cell_type": "code",
   "execution_count": 60,
   "id": "4c3dcaec-a743-49eb-a470-3caf2b2a5913",
   "metadata": {
    "tags": []
   },
   "outputs": [],
   "source": [
    "df_avail_per_country_with_pop=df_avail_per_country.merge(df_pop[df_pop[\"Année\"]==2017])\n",
    "df_avail_per_country_with_pop.rename(columns={\"Valeur\":\"Population\"}, inplace=True)\n",
    "df_avail_per_country_with_pop.drop(columns=\"Année\", inplace=True) "
   ]
  },
  {
   "cell_type": "markdown",
   "id": "2150e0c4-5537-488f-b479-eacf4858d5e4",
   "metadata": {},
   "source": [
    "On calcule différentes informations : <br>\n",
    "    - On ramène la production de kcal/pers/jour à la population (colonne *Dispo alimentaire en kcal/population/jour*<br>\n",
    "    - On calcule le besoin calorique de la population de chaque pays (colonne *Besoin en kcal/pop/jour*)<br>\n",
    "    - On calcule le ratio, pour chaque pays et sa population, entre le besoin et la production (colonne *Ratio production kcal/habitant/jour*)\n",
    "    "
   ]
  },
  {
   "cell_type": "code",
   "execution_count": 61,
   "id": "31dedb3e-d1b4-4003-bee6-b5d5776a32da",
   "metadata": {
    "tags": []
   },
   "outputs": [
    {
     "data": {
      "text/html": [
       "<div>\n",
       "<style scoped>\n",
       "    .dataframe tbody tr th:only-of-type {\n",
       "        vertical-align: middle;\n",
       "    }\n",
       "\n",
       "    .dataframe tbody tr th {\n",
       "        vertical-align: top;\n",
       "    }\n",
       "\n",
       "    .dataframe thead th {\n",
       "        text-align: right;\n",
       "    }\n",
       "</style>\n",
       "<table border=\"1\" class=\"dataframe\">\n",
       "  <thead>\n",
       "    <tr style=\"text-align: right;\">\n",
       "      <th></th>\n",
       "      <th>Zone</th>\n",
       "      <th>Disponibilité alimentaire (Kcal/personne/jour)</th>\n",
       "      <th>Population</th>\n",
       "      <th>Dispo alimentaire en kcal/population/jour</th>\n",
       "      <th>Besoin en kcal/pop/jour</th>\n",
       "      <th>Ratio production kcal/habitant/jour</th>\n",
       "    </tr>\n",
       "  </thead>\n",
       "  <tbody>\n",
       "    <tr>\n",
       "      <th>0</th>\n",
       "      <td>Afghanistan</td>\n",
       "      <td>2087.0</td>\n",
       "      <td>36296113</td>\n",
       "      <td>7.574999e+10</td>\n",
       "      <td>3.255544e+07</td>\n",
       "      <td>0.90</td>\n",
       "    </tr>\n",
       "    <tr>\n",
       "      <th>1</th>\n",
       "      <td>Afrique du Sud</td>\n",
       "      <td>3020.0</td>\n",
       "      <td>57009756</td>\n",
       "      <td>1.721695e+11</td>\n",
       "      <td>7.399410e+07</td>\n",
       "      <td>1.30</td>\n",
       "    </tr>\n",
       "    <tr>\n",
       "      <th>2</th>\n",
       "      <td>Albanie</td>\n",
       "      <td>3188.0</td>\n",
       "      <td>2884169</td>\n",
       "      <td>9.194731e+09</td>\n",
       "      <td>3.951664e+06</td>\n",
       "      <td>1.37</td>\n",
       "    </tr>\n",
       "    <tr>\n",
       "      <th>3</th>\n",
       "      <td>Algérie</td>\n",
       "      <td>3293.0</td>\n",
       "      <td>41389189</td>\n",
       "      <td>1.362946e+11</td>\n",
       "      <td>5.857598e+07</td>\n",
       "      <td>1.42</td>\n",
       "    </tr>\n",
       "    <tr>\n",
       "      <th>4</th>\n",
       "      <td>Allemagne</td>\n",
       "      <td>3503.0</td>\n",
       "      <td>82658409</td>\n",
       "      <td>2.895524e+11</td>\n",
       "      <td>1.244423e+08</td>\n",
       "      <td>1.51</td>\n",
       "    </tr>\n",
       "  </tbody>\n",
       "</table>\n",
       "</div>"
      ],
      "text/plain": [
       "             Zone  Disponibilité alimentaire (Kcal/personne/jour)  Population  \\\n",
       "0     Afghanistan                                          2087.0    36296113   \n",
       "1  Afrique du Sud                                          3020.0    57009756   \n",
       "2         Albanie                                          3188.0     2884169   \n",
       "3         Algérie                                          3293.0    41389189   \n",
       "4       Allemagne                                          3503.0    82658409   \n",
       "\n",
       "   Dispo alimentaire en kcal/population/jour  Besoin en kcal/pop/jour  \\\n",
       "0                               7.574999e+10             3.255544e+07   \n",
       "1                               1.721695e+11             7.399410e+07   \n",
       "2                               9.194731e+09             3.951664e+06   \n",
       "3                               1.362946e+11             5.857598e+07   \n",
       "4                               2.895524e+11             1.244423e+08   \n",
       "\n",
       "   Ratio production kcal/habitant/jour  \n",
       "0                                 0.90  \n",
       "1                                 1.30  \n",
       "2                                 1.37  \n",
       "3                                 1.42  \n",
       "4                                 1.51  "
      ]
     },
     "execution_count": 61,
     "metadata": {},
     "output_type": "execute_result"
    }
   ],
   "source": [
    "df_avail_per_country_with_pop[\"Dispo alimentaire en kcal/population/jour\"]=(df_avail_per_country_with_pop[\"Disponibilité alimentaire (Kcal/personne/jour)\"]*df_avail_per_country_with_pop[\"Population\"])\n",
    "df_avail_per_country_with_pop[\"Besoin en kcal/pop/jour\"]=df_avail_per_country_with_pop[\"Dispo alimentaire en kcal/population/jour\"]/kcal_need \n",
    "df_avail_per_country_with_pop[\"Ratio production kcal/habitant/jour\"]=round(df_avail_per_country_with_pop[\"Besoin en kcal/pop/jour\"]/df_avail_per_country_with_pop[\"Population\"],2)\n",
    "df_avail_per_country_with_pop.head()"
   ]
  },
  {
   "cell_type": "code",
   "execution_count": 62,
   "id": "1781c383-c8ef-42da-8788-6837046161ed",
   "metadata": {
    "tags": []
   },
   "outputs": [
    {
     "data": {
      "text/html": [
       "<div>\n",
       "<style scoped>\n",
       "    .dataframe tbody tr th:only-of-type {\n",
       "        vertical-align: middle;\n",
       "    }\n",
       "\n",
       "    .dataframe tbody tr th {\n",
       "        vertical-align: top;\n",
       "    }\n",
       "\n",
       "    .dataframe thead th {\n",
       "        text-align: right;\n",
       "    }\n",
       "</style>\n",
       "<table border=\"1\" class=\"dataframe\">\n",
       "  <thead>\n",
       "    <tr style=\"text-align: right;\">\n",
       "      <th></th>\n",
       "      <th>Zone</th>\n",
       "      <th>Disponibilité alimentaire (Kcal/personne/jour)</th>\n",
       "      <th>Population</th>\n",
       "      <th>Ratio production kcal/habitant/jour</th>\n",
       "    </tr>\n",
       "  </thead>\n",
       "  <tbody>\n",
       "    <tr>\n",
       "      <th>0</th>\n",
       "      <td>Afghanistan</td>\n",
       "      <td>2087.0</td>\n",
       "      <td>36296113</td>\n",
       "      <td>0.90</td>\n",
       "    </tr>\n",
       "    <tr>\n",
       "      <th>1</th>\n",
       "      <td>Afrique du Sud</td>\n",
       "      <td>3020.0</td>\n",
       "      <td>57009756</td>\n",
       "      <td>1.30</td>\n",
       "    </tr>\n",
       "    <tr>\n",
       "      <th>2</th>\n",
       "      <td>Albanie</td>\n",
       "      <td>3188.0</td>\n",
       "      <td>2884169</td>\n",
       "      <td>1.37</td>\n",
       "    </tr>\n",
       "    <tr>\n",
       "      <th>3</th>\n",
       "      <td>Algérie</td>\n",
       "      <td>3293.0</td>\n",
       "      <td>41389189</td>\n",
       "      <td>1.42</td>\n",
       "    </tr>\n",
       "    <tr>\n",
       "      <th>4</th>\n",
       "      <td>Allemagne</td>\n",
       "      <td>3503.0</td>\n",
       "      <td>82658409</td>\n",
       "      <td>1.51</td>\n",
       "    </tr>\n",
       "  </tbody>\n",
       "</table>\n",
       "</div>"
      ],
      "text/plain": [
       "             Zone  Disponibilité alimentaire (Kcal/personne/jour)  Population  \\\n",
       "0     Afghanistan                                          2087.0    36296113   \n",
       "1  Afrique du Sud                                          3020.0    57009756   \n",
       "2         Albanie                                          3188.0     2884169   \n",
       "3         Algérie                                          3293.0    41389189   \n",
       "4       Allemagne                                          3503.0    82658409   \n",
       "\n",
       "   Ratio production kcal/habitant/jour  \n",
       "0                                 0.90  \n",
       "1                                 1.30  \n",
       "2                                 1.37  \n",
       "3                                 1.42  \n",
       "4                                 1.51  "
      ]
     },
     "execution_count": 62,
     "metadata": {},
     "output_type": "execute_result"
    }
   ],
   "source": [
    "df_avail_per_country_with_pop.drop(columns=[\"Dispo alimentaire en kcal/population/jour\",\"Besoin en kcal/pop/jour\"], inplace=True)\n",
    "df_avail_per_country_with_pop.head()"
   ]
  },
  {
   "cell_type": "markdown",
   "id": "dd57b608-37f6-4775-9968-de51dede0b3a",
   "metadata": {},
   "source": [
    "Je créé 2 dataframe, un avec les 10 pays ayant le plus de disponibilité/habitant, et l'autre avec les 10 pays ayant le moins de disponibilité/habitant, puis je les rassemble en un seul.<br>\n",
    "Pour plus de clareté dans le tableau final, je rajouter une colonne indiquant si c'est top 10 ou bottom10"
   ]
  },
  {
   "cell_type": "code",
   "execution_count": 63,
   "id": "6636e4fb-db58-459c-a45e-3ae9e78a7298",
   "metadata": {},
   "outputs": [
    {
     "data": {
      "text/html": [
       "<div>\n",
       "<style scoped>\n",
       "    .dataframe tbody tr th:only-of-type {\n",
       "        vertical-align: middle;\n",
       "    }\n",
       "\n",
       "    .dataframe tbody tr th {\n",
       "        vertical-align: top;\n",
       "    }\n",
       "\n",
       "    .dataframe thead th {\n",
       "        text-align: right;\n",
       "    }\n",
       "</style>\n",
       "<table border=\"1\" class=\"dataframe\">\n",
       "  <thead>\n",
       "    <tr style=\"text-align: right;\">\n",
       "      <th></th>\n",
       "      <th>Zone</th>\n",
       "      <th>Disponibilité alimentaire (Kcal/personne/jour)</th>\n",
       "      <th>Population</th>\n",
       "      <th>Ratio production kcal/habitant/jour</th>\n",
       "      <th>Statut</th>\n",
       "    </tr>\n",
       "  </thead>\n",
       "  <tbody>\n",
       "    <tr>\n",
       "      <th>151</th>\n",
       "      <td>Tchad</td>\n",
       "      <td>2109.0</td>\n",
       "      <td>15016753</td>\n",
       "      <td>0.91</td>\n",
       "      <td>Bottom 10</td>\n",
       "    </tr>\n",
       "    <tr>\n",
       "      <th>114</th>\n",
       "      <td>Ouganda</td>\n",
       "      <td>2126.0</td>\n",
       "      <td>41166588</td>\n",
       "      <td>0.91</td>\n",
       "      <td>Bottom 10</td>\n",
       "    </tr>\n",
       "    <tr>\n",
       "      <th>167</th>\n",
       "      <td>Zimbabwe</td>\n",
       "      <td>2113.0</td>\n",
       "      <td>14236595</td>\n",
       "      <td>0.91</td>\n",
       "      <td>Bottom 10</td>\n",
       "    </tr>\n",
       "    <tr>\n",
       "      <th>172</th>\n",
       "      <td>Éthiopie</td>\n",
       "      <td>2129.0</td>\n",
       "      <td>106399924</td>\n",
       "      <td>0.91</td>\n",
       "      <td>Bottom 10</td>\n",
       "    </tr>\n",
       "    <tr>\n",
       "      <th>133</th>\n",
       "      <td>République populaire démocratique de Corée</td>\n",
       "      <td>2093.0</td>\n",
       "      <td>25429825</td>\n",
       "      <td>0.90</td>\n",
       "      <td>Bottom 10</td>\n",
       "    </tr>\n",
       "    <tr>\n",
       "      <th>65</th>\n",
       "      <td>Haïti</td>\n",
       "      <td>2089.0</td>\n",
       "      <td>10982366</td>\n",
       "      <td>0.90</td>\n",
       "      <td>Bottom 10</td>\n",
       "    </tr>\n",
       "    <tr>\n",
       "      <th>0</th>\n",
       "      <td>Afghanistan</td>\n",
       "      <td>2087.0</td>\n",
       "      <td>36296113</td>\n",
       "      <td>0.90</td>\n",
       "      <td>Bottom 10</td>\n",
       "    </tr>\n",
       "    <tr>\n",
       "      <th>91</th>\n",
       "      <td>Madagascar</td>\n",
       "      <td>2056.0</td>\n",
       "      <td>25570512</td>\n",
       "      <td>0.88</td>\n",
       "      <td>Bottom 10</td>\n",
       "    </tr>\n",
       "    <tr>\n",
       "      <th>166</th>\n",
       "      <td>Zambie</td>\n",
       "      <td>1924.0</td>\n",
       "      <td>16853599</td>\n",
       "      <td>0.83</td>\n",
       "      <td>Bottom 10</td>\n",
       "    </tr>\n",
       "    <tr>\n",
       "      <th>128</th>\n",
       "      <td>République centrafricaine</td>\n",
       "      <td>1879.0</td>\n",
       "      <td>4596023</td>\n",
       "      <td>0.81</td>\n",
       "      <td>Bottom 10</td>\n",
       "    </tr>\n",
       "  </tbody>\n",
       "</table>\n",
       "</div>"
      ],
      "text/plain": [
       "                                           Zone  \\\n",
       "151                                       Tchad   \n",
       "114                                     Ouganda   \n",
       "167                                    Zimbabwe   \n",
       "172                                    Éthiopie   \n",
       "133  République populaire démocratique de Corée   \n",
       "65                                        Haïti   \n",
       "0                                   Afghanistan   \n",
       "91                                   Madagascar   \n",
       "166                                      Zambie   \n",
       "128                   République centrafricaine   \n",
       "\n",
       "     Disponibilité alimentaire (Kcal/personne/jour)  Population  \\\n",
       "151                                          2109.0    15016753   \n",
       "114                                          2126.0    41166588   \n",
       "167                                          2113.0    14236595   \n",
       "172                                          2129.0   106399924   \n",
       "133                                          2093.0    25429825   \n",
       "65                                           2089.0    10982366   \n",
       "0                                            2087.0    36296113   \n",
       "91                                           2056.0    25570512   \n",
       "166                                          1924.0    16853599   \n",
       "128                                          1879.0     4596023   \n",
       "\n",
       "     Ratio production kcal/habitant/jour     Statut  \n",
       "151                                 0.91  Bottom 10  \n",
       "114                                 0.91  Bottom 10  \n",
       "167                                 0.91  Bottom 10  \n",
       "172                                 0.91  Bottom 10  \n",
       "133                                 0.90  Bottom 10  \n",
       "65                                  0.90  Bottom 10  \n",
       "0                                   0.90  Bottom 10  \n",
       "91                                  0.88  Bottom 10  \n",
       "166                                 0.83  Bottom 10  \n",
       "128                                 0.81  Bottom 10  "
      ]
     },
     "execution_count": 63,
     "metadata": {},
     "output_type": "execute_result"
    }
   ],
   "source": [
    "df_avail_per_country_bottom10=df_avail_per_country_with_pop.sort_values(\"Ratio production kcal/habitant/jour\", ascending=False).tail(10)\n",
    "df_avail_per_country_bottom10[\"Statut\"]=\"Bottom 10\"\n",
    "df_avail_per_country_bottom10"
   ]
  },
  {
   "cell_type": "code",
   "execution_count": 64,
   "id": "e8f39e4a-a821-4788-a6b5-357203ee8c78",
   "metadata": {},
   "outputs": [
    {
     "data": {
      "text/html": [
       "<div>\n",
       "<style scoped>\n",
       "    .dataframe tbody tr th:only-of-type {\n",
       "        vertical-align: middle;\n",
       "    }\n",
       "\n",
       "    .dataframe tbody tr th {\n",
       "        vertical-align: top;\n",
       "    }\n",
       "\n",
       "    .dataframe thead th {\n",
       "        text-align: right;\n",
       "    }\n",
       "</style>\n",
       "<table border=\"1\" class=\"dataframe\">\n",
       "  <thead>\n",
       "    <tr style=\"text-align: right;\">\n",
       "      <th></th>\n",
       "      <th>Zone</th>\n",
       "      <th>Disponibilité alimentaire (Kcal/personne/jour)</th>\n",
       "      <th>Population</th>\n",
       "      <th>Ratio production kcal/habitant/jour</th>\n",
       "      <th>Statut</th>\n",
       "    </tr>\n",
       "  </thead>\n",
       "  <tbody>\n",
       "    <tr>\n",
       "      <th>11</th>\n",
       "      <td>Autriche</td>\n",
       "      <td>3770.0</td>\n",
       "      <td>8819901</td>\n",
       "      <td>1.62</td>\n",
       "      <td>Top 10</td>\n",
       "    </tr>\n",
       "    <tr>\n",
       "      <th>16</th>\n",
       "      <td>Belgique</td>\n",
       "      <td>3737.0</td>\n",
       "      <td>11419748</td>\n",
       "      <td>1.61</td>\n",
       "      <td>Top 10</td>\n",
       "    </tr>\n",
       "    <tr>\n",
       "      <th>159</th>\n",
       "      <td>Turquie</td>\n",
       "      <td>3708.0</td>\n",
       "      <td>81116450</td>\n",
       "      <td>1.59</td>\n",
       "      <td>Top 10</td>\n",
       "    </tr>\n",
       "    <tr>\n",
       "      <th>171</th>\n",
       "      <td>États-Unis d'Amérique</td>\n",
       "      <td>3682.0</td>\n",
       "      <td>325084756</td>\n",
       "      <td>1.58</td>\n",
       "      <td>Top 10</td>\n",
       "    </tr>\n",
       "    <tr>\n",
       "      <th>72</th>\n",
       "      <td>Irlande</td>\n",
       "      <td>3602.0</td>\n",
       "      <td>4753279</td>\n",
       "      <td>1.55</td>\n",
       "      <td>Top 10</td>\n",
       "    </tr>\n",
       "    <tr>\n",
       "      <th>74</th>\n",
       "      <td>Israël</td>\n",
       "      <td>3610.0</td>\n",
       "      <td>8243848</td>\n",
       "      <td>1.55</td>\n",
       "      <td>Top 10</td>\n",
       "    </tr>\n",
       "    <tr>\n",
       "      <th>75</th>\n",
       "      <td>Italie</td>\n",
       "      <td>3578.0</td>\n",
       "      <td>60673701</td>\n",
       "      <td>1.54</td>\n",
       "      <td>Top 10</td>\n",
       "    </tr>\n",
       "    <tr>\n",
       "      <th>89</th>\n",
       "      <td>Luxembourg</td>\n",
       "      <td>3540.0</td>\n",
       "      <td>591910</td>\n",
       "      <td>1.52</td>\n",
       "      <td>Top 10</td>\n",
       "    </tr>\n",
       "    <tr>\n",
       "      <th>4</th>\n",
       "      <td>Allemagne</td>\n",
       "      <td>3503.0</td>\n",
       "      <td>82658409</td>\n",
       "      <td>1.51</td>\n",
       "      <td>Top 10</td>\n",
       "    </tr>\n",
       "    <tr>\n",
       "      <th>168</th>\n",
       "      <td>Égypte</td>\n",
       "      <td>3518.0</td>\n",
       "      <td>96442591</td>\n",
       "      <td>1.51</td>\n",
       "      <td>Top 10</td>\n",
       "    </tr>\n",
       "  </tbody>\n",
       "</table>\n",
       "</div>"
      ],
      "text/plain": [
       "                      Zone  Disponibilité alimentaire (Kcal/personne/jour)  \\\n",
       "11                Autriche                                          3770.0   \n",
       "16                Belgique                                          3737.0   \n",
       "159                Turquie                                          3708.0   \n",
       "171  États-Unis d'Amérique                                          3682.0   \n",
       "72                 Irlande                                          3602.0   \n",
       "74                  Israël                                          3610.0   \n",
       "75                  Italie                                          3578.0   \n",
       "89              Luxembourg                                          3540.0   \n",
       "4                Allemagne                                          3503.0   \n",
       "168                 Égypte                                          3518.0   \n",
       "\n",
       "     Population  Ratio production kcal/habitant/jour  Statut  \n",
       "11      8819901                                 1.62  Top 10  \n",
       "16     11419748                                 1.61  Top 10  \n",
       "159    81116450                                 1.59  Top 10  \n",
       "171   325084756                                 1.58  Top 10  \n",
       "72      4753279                                 1.55  Top 10  \n",
       "74      8243848                                 1.55  Top 10  \n",
       "75     60673701                                 1.54  Top 10  \n",
       "89       591910                                 1.52  Top 10  \n",
       "4      82658409                                 1.51  Top 10  \n",
       "168    96442591                                 1.51  Top 10  "
      ]
     },
     "execution_count": 64,
     "metadata": {},
     "output_type": "execute_result"
    }
   ],
   "source": [
    "df_avail_per_country_top10=df_avail_per_country_with_pop.sort_values(\"Ratio production kcal/habitant/jour\", ascending=False).head(10)\n",
    "df_avail_per_country_top10[\"Statut\"]=\"Top 10\"\n",
    "df_avail_per_country_top10"
   ]
  },
  {
   "cell_type": "markdown",
   "id": "bd1a5b00-a949-4ef8-a9d8-6ec770690255",
   "metadata": {},
   "source": [
    "Je créé mon tableau avec les valeurs extrêmes : top 10 et bottom 10"
   ]
  },
  {
   "cell_type": "code",
   "execution_count": 65,
   "id": "768c030a-d327-4efa-a4eb-36641a93dc05",
   "metadata": {},
   "outputs": [
    {
     "data": {
      "text/html": [
       "<div>\n",
       "<style scoped>\n",
       "    .dataframe tbody tr th:only-of-type {\n",
       "        vertical-align: middle;\n",
       "    }\n",
       "\n",
       "    .dataframe tbody tr th {\n",
       "        vertical-align: top;\n",
       "    }\n",
       "\n",
       "    .dataframe thead th {\n",
       "        text-align: right;\n",
       "    }\n",
       "</style>\n",
       "<table border=\"1\" class=\"dataframe\">\n",
       "  <thead>\n",
       "    <tr style=\"text-align: right;\">\n",
       "      <th></th>\n",
       "      <th>Zone</th>\n",
       "      <th>Disponibilité alimentaire (Kcal/personne/jour)</th>\n",
       "      <th>Population</th>\n",
       "      <th>Ratio production kcal/habitant/jour</th>\n",
       "      <th>Statut</th>\n",
       "    </tr>\n",
       "  </thead>\n",
       "  <tbody>\n",
       "    <tr>\n",
       "      <th>11</th>\n",
       "      <td>Autriche</td>\n",
       "      <td>3770.0</td>\n",
       "      <td>8819901</td>\n",
       "      <td>1.62</td>\n",
       "      <td>Top 10</td>\n",
       "    </tr>\n",
       "    <tr>\n",
       "      <th>16</th>\n",
       "      <td>Belgique</td>\n",
       "      <td>3737.0</td>\n",
       "      <td>11419748</td>\n",
       "      <td>1.61</td>\n",
       "      <td>Top 10</td>\n",
       "    </tr>\n",
       "    <tr>\n",
       "      <th>159</th>\n",
       "      <td>Turquie</td>\n",
       "      <td>3708.0</td>\n",
       "      <td>81116450</td>\n",
       "      <td>1.59</td>\n",
       "      <td>Top 10</td>\n",
       "    </tr>\n",
       "    <tr>\n",
       "      <th>171</th>\n",
       "      <td>États-Unis d'Amérique</td>\n",
       "      <td>3682.0</td>\n",
       "      <td>325084756</td>\n",
       "      <td>1.58</td>\n",
       "      <td>Top 10</td>\n",
       "    </tr>\n",
       "    <tr>\n",
       "      <th>72</th>\n",
       "      <td>Irlande</td>\n",
       "      <td>3602.0</td>\n",
       "      <td>4753279</td>\n",
       "      <td>1.55</td>\n",
       "      <td>Top 10</td>\n",
       "    </tr>\n",
       "    <tr>\n",
       "      <th>74</th>\n",
       "      <td>Israël</td>\n",
       "      <td>3610.0</td>\n",
       "      <td>8243848</td>\n",
       "      <td>1.55</td>\n",
       "      <td>Top 10</td>\n",
       "    </tr>\n",
       "    <tr>\n",
       "      <th>75</th>\n",
       "      <td>Italie</td>\n",
       "      <td>3578.0</td>\n",
       "      <td>60673701</td>\n",
       "      <td>1.54</td>\n",
       "      <td>Top 10</td>\n",
       "    </tr>\n",
       "    <tr>\n",
       "      <th>89</th>\n",
       "      <td>Luxembourg</td>\n",
       "      <td>3540.0</td>\n",
       "      <td>591910</td>\n",
       "      <td>1.52</td>\n",
       "      <td>Top 10</td>\n",
       "    </tr>\n",
       "    <tr>\n",
       "      <th>4</th>\n",
       "      <td>Allemagne</td>\n",
       "      <td>3503.0</td>\n",
       "      <td>82658409</td>\n",
       "      <td>1.51</td>\n",
       "      <td>Top 10</td>\n",
       "    </tr>\n",
       "    <tr>\n",
       "      <th>168</th>\n",
       "      <td>Égypte</td>\n",
       "      <td>3518.0</td>\n",
       "      <td>96442591</td>\n",
       "      <td>1.51</td>\n",
       "      <td>Top 10</td>\n",
       "    </tr>\n",
       "    <tr>\n",
       "      <th>151</th>\n",
       "      <td>Tchad</td>\n",
       "      <td>2109.0</td>\n",
       "      <td>15016753</td>\n",
       "      <td>0.91</td>\n",
       "      <td>Bottom 10</td>\n",
       "    </tr>\n",
       "    <tr>\n",
       "      <th>114</th>\n",
       "      <td>Ouganda</td>\n",
       "      <td>2126.0</td>\n",
       "      <td>41166588</td>\n",
       "      <td>0.91</td>\n",
       "      <td>Bottom 10</td>\n",
       "    </tr>\n",
       "    <tr>\n",
       "      <th>167</th>\n",
       "      <td>Zimbabwe</td>\n",
       "      <td>2113.0</td>\n",
       "      <td>14236595</td>\n",
       "      <td>0.91</td>\n",
       "      <td>Bottom 10</td>\n",
       "    </tr>\n",
       "    <tr>\n",
       "      <th>172</th>\n",
       "      <td>Éthiopie</td>\n",
       "      <td>2129.0</td>\n",
       "      <td>106399924</td>\n",
       "      <td>0.91</td>\n",
       "      <td>Bottom 10</td>\n",
       "    </tr>\n",
       "    <tr>\n",
       "      <th>133</th>\n",
       "      <td>République populaire démocratique de Corée</td>\n",
       "      <td>2093.0</td>\n",
       "      <td>25429825</td>\n",
       "      <td>0.90</td>\n",
       "      <td>Bottom 10</td>\n",
       "    </tr>\n",
       "    <tr>\n",
       "      <th>65</th>\n",
       "      <td>Haïti</td>\n",
       "      <td>2089.0</td>\n",
       "      <td>10982366</td>\n",
       "      <td>0.90</td>\n",
       "      <td>Bottom 10</td>\n",
       "    </tr>\n",
       "    <tr>\n",
       "      <th>0</th>\n",
       "      <td>Afghanistan</td>\n",
       "      <td>2087.0</td>\n",
       "      <td>36296113</td>\n",
       "      <td>0.90</td>\n",
       "      <td>Bottom 10</td>\n",
       "    </tr>\n",
       "    <tr>\n",
       "      <th>91</th>\n",
       "      <td>Madagascar</td>\n",
       "      <td>2056.0</td>\n",
       "      <td>25570512</td>\n",
       "      <td>0.88</td>\n",
       "      <td>Bottom 10</td>\n",
       "    </tr>\n",
       "    <tr>\n",
       "      <th>166</th>\n",
       "      <td>Zambie</td>\n",
       "      <td>1924.0</td>\n",
       "      <td>16853599</td>\n",
       "      <td>0.83</td>\n",
       "      <td>Bottom 10</td>\n",
       "    </tr>\n",
       "    <tr>\n",
       "      <th>128</th>\n",
       "      <td>République centrafricaine</td>\n",
       "      <td>1879.0</td>\n",
       "      <td>4596023</td>\n",
       "      <td>0.81</td>\n",
       "      <td>Bottom 10</td>\n",
       "    </tr>\n",
       "  </tbody>\n",
       "</table>\n",
       "</div>"
      ],
      "text/plain": [
       "                                           Zone  \\\n",
       "11                                     Autriche   \n",
       "16                                     Belgique   \n",
       "159                                     Turquie   \n",
       "171                       États-Unis d'Amérique   \n",
       "72                                      Irlande   \n",
       "74                                       Israël   \n",
       "75                                       Italie   \n",
       "89                                   Luxembourg   \n",
       "4                                     Allemagne   \n",
       "168                                      Égypte   \n",
       "151                                       Tchad   \n",
       "114                                     Ouganda   \n",
       "167                                    Zimbabwe   \n",
       "172                                    Éthiopie   \n",
       "133  République populaire démocratique de Corée   \n",
       "65                                        Haïti   \n",
       "0                                   Afghanistan   \n",
       "91                                   Madagascar   \n",
       "166                                      Zambie   \n",
       "128                   République centrafricaine   \n",
       "\n",
       "     Disponibilité alimentaire (Kcal/personne/jour)  Population  \\\n",
       "11                                           3770.0     8819901   \n",
       "16                                           3737.0    11419748   \n",
       "159                                          3708.0    81116450   \n",
       "171                                          3682.0   325084756   \n",
       "72                                           3602.0     4753279   \n",
       "74                                           3610.0     8243848   \n",
       "75                                           3578.0    60673701   \n",
       "89                                           3540.0      591910   \n",
       "4                                            3503.0    82658409   \n",
       "168                                          3518.0    96442591   \n",
       "151                                          2109.0    15016753   \n",
       "114                                          2126.0    41166588   \n",
       "167                                          2113.0    14236595   \n",
       "172                                          2129.0   106399924   \n",
       "133                                          2093.0    25429825   \n",
       "65                                           2089.0    10982366   \n",
       "0                                            2087.0    36296113   \n",
       "91                                           2056.0    25570512   \n",
       "166                                          1924.0    16853599   \n",
       "128                                          1879.0     4596023   \n",
       "\n",
       "     Ratio production kcal/habitant/jour     Statut  \n",
       "11                                  1.62     Top 10  \n",
       "16                                  1.61     Top 10  \n",
       "159                                 1.59     Top 10  \n",
       "171                                 1.58     Top 10  \n",
       "72                                  1.55     Top 10  \n",
       "74                                  1.55     Top 10  \n",
       "75                                  1.54     Top 10  \n",
       "89                                  1.52     Top 10  \n",
       "4                                   1.51     Top 10  \n",
       "168                                 1.51     Top 10  \n",
       "151                                 0.91  Bottom 10  \n",
       "114                                 0.91  Bottom 10  \n",
       "167                                 0.91  Bottom 10  \n",
       "172                                 0.91  Bottom 10  \n",
       "133                                 0.90  Bottom 10  \n",
       "65                                  0.90  Bottom 10  \n",
       "0                                   0.90  Bottom 10  \n",
       "91                                  0.88  Bottom 10  \n",
       "166                                 0.83  Bottom 10  \n",
       "128                                 0.81  Bottom 10  "
      ]
     },
     "execution_count": 65,
     "metadata": {},
     "output_type": "execute_result"
    }
   ],
   "source": [
    "df_avail_per_country_ends=pd.concat([df_avail_per_country_top10, df_avail_per_country_bottom10])\n",
    "df_avail_per_country_ends"
   ]
  },
  {
   "cell_type": "code",
   "execution_count": 66,
   "id": "34a687f5-d8d2-4cc3-8d62-e967f30c2271",
   "metadata": {},
   "outputs": [
    {
     "name": "stdout",
     "output_type": "stream",
     "text": [
      "Il y a 174 pays en 2017. 152 produisent plus que nécessaire pour leur population, et 22 ont un ratio inférieur à 1.\n"
     ]
    }
   ],
   "source": [
    "total_countries=len(df_avail_per_country_with_pop)\n",
    "count_number_countries_beyond_1=df_avail_per_country_with_pop[df_avail_per_country_with_pop[\"Ratio production kcal/habitant/jour\"]>=1]\n",
    "count_number_countries_below_1=df_avail_per_country_with_pop[df_avail_per_country_with_pop[\"Ratio production kcal/habitant/jour\"]<1]\n",
    "\n",
    "print(f\"Il y a {total_countries} pays en 2017. {len(count_number_countries_beyond_1)} produisent plus que nécessaire pour leur population,\\\n",
    " et {len(count_number_countries_below_1)} ont un ratio inférieur à 1.\")"
   ]
  },
  {
   "cell_type": "markdown",
   "id": "6197b827-1f02-4e7c-978b-4e0ca8cdef19",
   "metadata": {},
   "source": [
    "Je vérifie si je retrouve ces 22 pays dans ma liste des pays ayant bénéficié d'aide alimentaire"
   ]
  },
  {
   "cell_type": "code",
   "execution_count": 67,
   "id": "4c25d3fa-286e-4ea2-97b7-be30f9ca3c55",
   "metadata": {
    "tags": []
   },
   "outputs": [],
   "source": [
    "#liste de pays ayant déjà bénéficié de l'aide alimentaire, quelle que soit l'année, entre 2013 et 2016, qu'il soit considéré en insécurité alimentaire ou pas.\n",
    "countries_receiving_food_aid_list=df_foodaid[\"Pays bénéficiaire\"].unique()"
   ]
  },
  {
   "cell_type": "code",
   "execution_count": 68,
   "id": "1a62947f-9d04-48b6-b214-80a392a0c860",
   "metadata": {},
   "outputs": [
    {
     "data": {
      "text/html": [
       "<div>\n",
       "<style scoped>\n",
       "    .dataframe tbody tr th:only-of-type {\n",
       "        vertical-align: middle;\n",
       "    }\n",
       "\n",
       "    .dataframe tbody tr th {\n",
       "        vertical-align: top;\n",
       "    }\n",
       "\n",
       "    .dataframe thead th {\n",
       "        text-align: right;\n",
       "    }\n",
       "</style>\n",
       "<table border=\"1\" class=\"dataframe\">\n",
       "  <thead>\n",
       "    <tr style=\"text-align: right;\">\n",
       "      <th></th>\n",
       "      <th>Zone</th>\n",
       "    </tr>\n",
       "  </thead>\n",
       "  <tbody>\n",
       "    <tr>\n",
       "      <th>0</th>\n",
       "      <td>Afghanistan</td>\n",
       "    </tr>\n",
       "    <tr>\n",
       "      <th>19</th>\n",
       "      <td>Bolivie (État plurinational de)</td>\n",
       "    </tr>\n",
       "    <tr>\n",
       "      <th>39</th>\n",
       "      <td>Congo</td>\n",
       "    </tr>\n",
       "    <tr>\n",
       "      <th>62</th>\n",
       "      <td>Guinée-Bissau</td>\n",
       "    </tr>\n",
       "    <tr>\n",
       "      <th>65</th>\n",
       "      <td>Haïti</td>\n",
       "    </tr>\n",
       "    <tr>\n",
       "      <th>80</th>\n",
       "      <td>Kenya</td>\n",
       "    </tr>\n",
       "    <tr>\n",
       "      <th>87</th>\n",
       "      <td>Libéria</td>\n",
       "    </tr>\n",
       "    <tr>\n",
       "      <th>91</th>\n",
       "      <td>Madagascar</td>\n",
       "    </tr>\n",
       "    <tr>\n",
       "      <th>103</th>\n",
       "      <td>Mozambique</td>\n",
       "    </tr>\n",
       "    <tr>\n",
       "      <th>105</th>\n",
       "      <td>Namibie</td>\n",
       "    </tr>\n",
       "    <tr>\n",
       "      <th>114</th>\n",
       "      <td>Ouganda</td>\n",
       "    </tr>\n",
       "    <tr>\n",
       "      <th>127</th>\n",
       "      <td>Rwanda</td>\n",
       "    </tr>\n",
       "    <tr>\n",
       "      <th>128</th>\n",
       "      <td>République centrafricaine</td>\n",
       "    </tr>\n",
       "    <tr>\n",
       "      <th>133</th>\n",
       "      <td>République populaire démocratique de Corée</td>\n",
       "    </tr>\n",
       "    <tr>\n",
       "      <th>134</th>\n",
       "      <td>République-Unie de Tanzanie</td>\n",
       "    </tr>\n",
       "    <tr>\n",
       "      <th>150</th>\n",
       "      <td>Tadjikistan</td>\n",
       "    </tr>\n",
       "    <tr>\n",
       "      <th>151</th>\n",
       "      <td>Tchad</td>\n",
       "    </tr>\n",
       "    <tr>\n",
       "      <th>154</th>\n",
       "      <td>Timor-Leste</td>\n",
       "    </tr>\n",
       "    <tr>\n",
       "      <th>165</th>\n",
       "      <td>Yémen</td>\n",
       "    </tr>\n",
       "    <tr>\n",
       "      <th>166</th>\n",
       "      <td>Zambie</td>\n",
       "    </tr>\n",
       "    <tr>\n",
       "      <th>167</th>\n",
       "      <td>Zimbabwe</td>\n",
       "    </tr>\n",
       "    <tr>\n",
       "      <th>172</th>\n",
       "      <td>Éthiopie</td>\n",
       "    </tr>\n",
       "  </tbody>\n",
       "</table>\n",
       "</div>"
      ],
      "text/plain": [
       "                                           Zone\n",
       "0                                   Afghanistan\n",
       "19              Bolivie (État plurinational de)\n",
       "39                                        Congo\n",
       "62                                Guinée-Bissau\n",
       "65                                        Haïti\n",
       "80                                        Kenya\n",
       "87                                      Libéria\n",
       "91                                   Madagascar\n",
       "103                                  Mozambique\n",
       "105                                     Namibie\n",
       "114                                     Ouganda\n",
       "127                                      Rwanda\n",
       "128                   République centrafricaine\n",
       "133  République populaire démocratique de Corée\n",
       "134                 République-Unie de Tanzanie\n",
       "150                                 Tadjikistan\n",
       "151                                       Tchad\n",
       "154                                 Timor-Leste\n",
       "165                                       Yémen\n",
       "166                                      Zambie\n",
       "167                                    Zimbabwe\n",
       "172                                    Éthiopie"
      ]
     },
     "execution_count": 68,
     "metadata": {},
     "output_type": "execute_result"
    }
   ],
   "source": [
    "# dataframe des pays avec un ratio <1\n",
    "df_countries_ratio_less_than_one=count_number_countries_below_1[[\"Zone\"]]\n",
    "df_countries_ratio_less_than_one"
   ]
  },
  {
   "cell_type": "code",
   "execution_count": 70,
   "id": "d9cca2c7-a0b6-424a-a4aa-638aa5c46ec6",
   "metadata": {},
   "outputs": [],
   "source": [
    "comparison_result=cf.compare_content_dataframe(df_countries_ratio_less_than_one,countries_receiving_food_aid_list)"
   ]
  },
  {
   "cell_type": "code",
   "execution_count": 71,
   "id": "088b5fdb-2846-4fed-a0d2-3b072b6a81c8",
   "metadata": {},
   "outputs": [
    {
     "name": "stdout",
     "output_type": "stream",
     "text": [
      "Voici le ou les pays n'ayant pas bénéficié d'aide même s'il(s) ne produise(nt) pas assez de kcal pour leur population  Namibie\n"
     ]
    }
   ],
   "source": [
    "countries_with_no_aid=comparison_result[comparison_result[\"Present dans la liste\"]==\"Non\"]\n",
    "\n",
    "print(f\"Voici le ou les pays n'ayant pas bénéficié d'aide même s'il(s) ne produise(nt) pas assez de kcal pour leur population  {','.join(countries_with_no_aid.Zone)}\")"
   ]
  },
  {
   "cell_type": "code",
   "execution_count": 72,
   "id": "0391a5b8-1b5d-408b-9262-b7ecefb2fdb7",
   "metadata": {},
   "outputs": [
    {
     "name": "stdout",
     "output_type": "stream",
     "text": [
      "La population namibienne en sous nutrition s'élève à 300000 habitants sur 2402633 (soit 12.49%)\n"
     ]
    }
   ],
   "source": [
    "sous_nut_namibie=int(df_undernut[(df_undernut[\"Zone\"]==\"Namibie\") & (df_undernut.Année==2017)][\"Valeur\"].values[0])\n",
    "pop_namibie=df_pop[(df_pop.Année==2017) & (df_pop.Zone==\"Namibie\")][\"Valeur\"].values[0]\n",
    "pop_sous_nut_namibie_2017=sous_nut_namibie/pop_namibie\n",
    "print(f\"La population namibienne en sous nutrition s'élève à {sous_nut_namibie} habitants sur {pop_namibie} (soit {pop_sous_nut_namibie_2017:.2%})\")"
   ]
  },
  {
   "cell_type": "markdown",
   "id": "aedaaf4a-d66a-45ee-8420-6a07aa2ea710",
   "metadata": {},
   "source": [
    "### Conclusion\n",
    "Quasiment tous les pays ne produisant pas assez de kcal pour leurs habitants (données de 2017) ont bénéficié de l'aide alimentaire entre 2013 et 2016.<br>\n",
    "Mais nous n'avons pas l'information si tous ces pays sont en sous-nutrition, même si on peut le suspecter au vu de ces résultats."
   ]
  }
 ],
 "metadata": {
  "kernelspec": {
   "display_name": "Python 3 (ipykernel)",
   "language": "python",
   "name": "python3"
  },
  "language_info": {
   "codemirror_mode": {
    "name": "ipython",
    "version": 3
   },
   "file_extension": ".py",
   "mimetype": "text/x-python",
   "name": "python",
   "nbconvert_exporter": "python",
   "pygments_lexer": "ipython3",
   "version": "3.9.7"
  }
 },
 "nbformat": 4,
 "nbformat_minor": 5
}
